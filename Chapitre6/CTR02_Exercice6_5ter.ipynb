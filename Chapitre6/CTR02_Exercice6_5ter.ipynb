{
  "nbformat": 4,
  "nbformat_minor": 0,
  "metadata": {
    "colab": {
      "name": "CTR02-Exercice6.5ter.ipynb",
      "version": "0.3.2",
      "provenance": [],
      "collapsed_sections": [],
      "include_colab_link": true
    },
    "kernelspec": {
      "name": "python3",
      "display_name": "Python 3"
    }
  },
  "cells": [
    {
      "cell_type": "markdown",
      "metadata": {
        "id": "view-in-github",
        "colab_type": "text"
      },
      "source": [
        "<a href=\"https://colab.research.google.com/github/tchappui/heia-cours-technique-de-reaction/blob/master/Chapitre6/CTR02_Exercice6_5ter.ipynb\" target=\"_parent\"><img src=\"https://colab.research.google.com/assets/colab-badge.svg\" alt=\"Open In Colab\"/></a>"
      ]
    },
    {
      "metadata": {
        "id": "DFr-XL2evfW1",
        "colab_type": "code",
        "colab": {}
      },
      "cell_type": "code",
      "source": [
        "import numpy as np\n",
        "from scipy.integrate import odeint\n",
        "import matplotlib.pyplot as plt"
      ],
      "execution_count": 0,
      "outputs": []
    },
    {
      "metadata": {
        "id": "KJqIy7divn1X",
        "colab_type": "code",
        "colab": {}
      },
      "cell_type": "code",
      "source": [
        "R = 8.314\n",
        "Ea = 65700 # J/mol\n",
        "T0 = 305 # K\n",
        "Tj0 = 340.5 # K\n",
        "cpc = 28 # kJ/kg/K\n",
        "mdot = 500 # kg/h\n",
        "CA0 = 1.86 # kmol/m3\n",
        "FA0 = 16.3 * 0.9 # kmol/h\n",
        "FAI = 16.3 * 0.1 # kmol/h\n",
        "FB0 = 0 # kmol/h\n",
        "Delta_HR = -34500 # kJ/kmol\n",
        "cp_A = 141 # kJ/kmol*K\n",
        "cp_B = 141 # kJ/kmol*K\n",
        "cp_I = 161 # kJ/kmol*K\n",
        "Ua = 5000 # kJ/m3*h*K\n",
        "k1 = 31.1 # 1/h\n",
        "Kc2 = 3.03 # -\n",
        "T1 = 360 # K\n",
        "T2 = 333 # K\n",
        "cp_0 = cp_A + 0.1/0.9 * cp_I # J/mol*K\n",
        "cocurrent = -1"
      ],
      "execution_count": 0,
      "outputs": []
    },
    {
      "metadata": {
        "id": "inKNbHjwwDAE",
        "colab_type": "code",
        "colab": {}
      },
      "cell_type": "code",
      "source": [
        "def bilans(variables, V):\n",
        "    FA, FB, T, Tj = variables\n",
        "    \n",
        "    k = k1 * np.exp(Ea/R * (1/T1 - 1/T))\n",
        "    Kc = Kc2 * np.exp(Delta_HR/R * (1/T2 - 1/T))\n",
        "    \n",
        "    X = 1 - FA/FA0\n",
        "    \n",
        "    CA = CA0 * (1 - X)\n",
        "    CB = CA0 * X\n",
        "    \n",
        "    r1 = k * CA\n",
        "    r2 = k/Kc * CB\n",
        "    \n",
        "    RA = -r1 + r2\n",
        "    RB = r1 - r2\n",
        "    \n",
        "    dFA = RA\n",
        "    dFB = RB\n",
        "    dT = (Ua * (Tj - T) + (-Delta_HR) * r1 + (Delta_HR) * r2) / FA0 / cp_0\n",
        "    dTj = (cocurrent * Ua * (T - Tj)) / mdot / cpc\n",
        "    \n",
        "    return [dFA, dFB, dT, dTj]"
      ],
      "execution_count": 0,
      "outputs": []
    },
    {
      "metadata": {
        "id": "p468OWLNwF-N",
        "colab_type": "code",
        "colab": {}
      },
      "cell_type": "code",
      "source": [
        "conditions_initiales = [FA0, FB0, T0, Tj0]"
      ],
      "execution_count": 0,
      "outputs": []
    },
    {
      "metadata": {
        "id": "FvjlL89BzsqY",
        "colab_type": "code",
        "colab": {}
      },
      "cell_type": "code",
      "source": [
        "V = np.arange(0, 5.01, 0.01)"
      ],
      "execution_count": 0,
      "outputs": []
    },
    {
      "metadata": {
        "id": "TzHkvDO41eEG",
        "colab_type": "code",
        "colab": {}
      },
      "cell_type": "code",
      "source": [
        "results = odeint(\n",
        "    bilans,\n",
        "    conditions_initiales,\n",
        "    V\n",
        ")"
      ],
      "execution_count": 0,
      "outputs": []
    },
    {
      "metadata": {
        "id": "gmw1Y8Io1j7X",
        "colab_type": "code",
        "colab": {}
      },
      "cell_type": "code",
      "source": [
        "FA = results[:,0]\n",
        "FB = results[:,1]\n",
        "T = results[:,2]\n",
        "Tj = results[:,3]\n",
        "\n",
        "X = 1 - FA / FA0"
      ],
      "execution_count": 0,
      "outputs": []
    },
    {
      "metadata": {
        "id": "Ih6xF95Z1qSU",
        "colab_type": "code",
        "outputId": "129f4b7b-47d3-436b-8f9c-39b5181ad77e",
        "colab": {
          "base_uri": "https://localhost:8080/",
          "height": 283
        }
      },
      "cell_type": "code",
      "source": [
        "plt.plot(V, X)\n",
        "plt.xlabel('V (L)')\n",
        "plt.ylabel('X (-)')\n",
        "plt.show()"
      ],
      "execution_count": 8,
      "outputs": [
        {
          "output_type": "display_data",
          "data": {
            "image/png": "[encoded data removed]",
            "text/plain": [
              "<Figure size 432x288 with 1 Axes>"
            ]
          },
          "metadata": {
            "tags": []
          }
        }
      ]
    },
    {
      "metadata": {
        "id": "39EX0y4h1tK0",
        "colab_type": "code",
        "outputId": "486ba7b8-929b-4717-b911-b3dc9eaeb359",
        "colab": {
          "base_uri": "https://localhost:8080/",
          "height": 283
        }
      },
      "cell_type": "code",
      "source": [
        "plt.plot(V, T)\n",
        "plt.plot(V, Tj)\n",
        "plt.xlabel('V (L)')\n",
        "plt.ylabel('T (K)')\n",
        "plt.legend(['T', 'Tj'])\n",
        "plt.show()"
      ],
      "execution_count": 9,
      "outputs": [
        {
          "output_type": "display_data",
          "data": {
            "image/png": "[encoded data removed]",
            "text/plain": [
              "<Figure size 432x288 with 1 Axes>"
            ]
          },
          "metadata": {
            "tags": []
          }
        }
      ]
    },
    {
      "metadata": {
        "id": "gScQwnTg1xNY",
        "colab_type": "code",
        "outputId": "73ad5547-c63a-42b2-f857-f38e3e06f47c",
        "colab": {
          "base_uri": "https://localhost:8080/",
          "height": 34
        }
      },
      "cell_type": "code",
      "source": [
        "Tj[-1]"
      ],
      "execution_count": 10,
      "outputs": [
        {
          "output_type": "execute_result",
          "data": {
            "text/plain": [
              "315.22076390799907"
            ]
          },
          "metadata": {
            "tags": []
          },
          "execution_count": 10
        }
      ]
    },
    {
      "metadata": {
        "id": "iSYCexNT57IJ",
        "colab_type": "code",
        "colab": {}
      },
      "cell_type": "code",
      "source": [
        ""
      ],
      "execution_count": 0,
      "outputs": []
    }
  ]
}