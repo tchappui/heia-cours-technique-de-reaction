{
  "nbformat": 4,
  "nbformat_minor": 0,
  "metadata": {
    "colab": {
      "name": "Copie de S04_Exercise5.ipynb",
      "version": "0.3.2",
      "provenance": [],
      "collapsed_sections": [],
      "include_colab_link": true
    },
    "kernelspec": {
      "name": "python3",
      "display_name": "Python 3"
    }
  },
  "cells": [
    {
      "cell_type": "markdown",
      "metadata": {
        "id": "view-in-github",
        "colab_type": "text"
      },
      "source": [
        "<a href=\"https://colab.research.google.com/github/tchappui/heia-cours-technique-de-reaction/blob/master/Chapitre6/Exercise5bis.ipynb\" target=\"_parent\"><img src=\"https://colab.research.google.com/assets/colab-badge.svg\" alt=\"Open In Colab\"/></a>"
      ]
    },
    {
      "metadata": {
        "id": "bloo9Yn5u9jE",
        "colab_type": "text"
      },
      "cell_type": "markdown",
      "source": [
        "# Exercice 6.5bis"
      ]
    },
    {
      "metadata": {
        "id": "KvwjqQnNvCuz",
        "colab_type": "text"
      },
      "cell_type": "markdown",
      "source": [
        "## On importe les bibliothèques"
      ]
    },
    {
      "metadata": {
        "id": "JxyQ_4ZJvG7P",
        "colab_type": "code",
        "colab": {}
      },
      "cell_type": "code",
      "source": [
        "import numpy as np\n",
        "from scipy.integrate import odeint\n",
        "import matplotlib.pyplot as plt"
      ],
      "execution_count": 0,
      "outputs": []
    },
    {
      "metadata": {
        "id": "GjnNi-eTvMh6",
        "colab_type": "text"
      },
      "cell_type": "markdown",
      "source": [
        "## Définition des constantes"
      ]
    },
    {
      "metadata": {
        "id": "3uM4dswEu6ow",
        "colab_type": "code",
        "colab": {}
      },
      "cell_type": "code",
      "source": [
        "R = 8.314\n",
        "Ea = 65700 # J/mol\n",
        "T0 = 310 # K\n",
        "Tj = 310 # K\n",
        "CA0 = 9.3 # kmol/m3\n",
        "FA0 = 16.3 * 0.9 # kmol/h\n",
        "FAI = 16.3 * 0.1 # kmol/h\n",
        "FB0 = 0 # kmol/h\n",
        "Delta_HR = -6900 # J/(mole de butane)\n",
        "cp_A = 141 # J/mol*K\n",
        "cp_B = 141 # J/mol*K\n",
        "cp_I = 161 # J/mol*K\n",
        "Ua = 5000 # kJ/m3*h*K\n",
        "k1 = 31.1 # 1/h\n",
        "Kc2 = 3.03 # -\n",
        "T1 = 360 # K\n",
        "T2 = 333 # K\n",
        "cp_0 = cp_A + 0.1/0.9 * cp_I # J/mol*K"
      ],
      "execution_count": 0,
      "outputs": []
    },
    {
      "metadata": {
        "id": "fJsd-f1xvPX_",
        "colab_type": "text"
      },
      "cell_type": "markdown",
      "source": [
        "## Définition des bilans"
      ]
    },
    {
      "metadata": {
        "id": "8Qi0zXVFvKK7",
        "colab_type": "code",
        "colab": {}
      },
      "cell_type": "code",
      "source": [
        "def bilans(variables, V):\n",
        "    FA, FB, T = variables\n",
        "    \n",
        "    k = k1 * np.exp(Ea/R * (1/T1 - 1/T))\n",
        "    Kc = Kc2 * np.exp(Delta_HR/R * (1/T2 - 1/T))\n",
        "    \n",
        "    X = 1 - FA/FA0\n",
        "    \n",
        "    CA = CA0 * (1 - X)\n",
        "    CB = CA0 * X\n",
        "    \n",
        "    r1 = k * CA\n",
        "    r2 = k/Kc * CB\n",
        "    \n",
        "    RA = -r1 + r2\n",
        "    RB = r1 - r2\n",
        "    \n",
        "    dFA = RA\n",
        "    dFB = RB\n",
        "    dT = (Ua * (Tj - T) + (-Delta_HR) * r1 + Delta_HR * r2) / FA0 / cp_0\n",
        "    \n",
        "    return [dFA, dFB, dT]\n",
        "\n",
        "    "
      ],
      "execution_count": 0,
      "outputs": []
    },
    {
      "metadata": {
        "id": "-E9xkUJUw0aH",
        "colab_type": "text"
      },
      "cell_type": "markdown",
      "source": [
        "## Initial conditions and integration range"
      ]
    },
    {
      "metadata": {
        "id": "Fw1I4-xSww7d",
        "colab_type": "code",
        "colab": {}
      },
      "cell_type": "code",
      "source": [
        "variables0 = [FA0, FB0, T0]"
      ],
      "execution_count": 0,
      "outputs": []
    },
    {
      "metadata": {
        "id": "txnWoXb2xBgv",
        "colab_type": "code",
        "colab": {}
      },
      "cell_type": "code",
      "source": [
        "V = np.arange(0, 6.001, 0.001)"
      ],
      "execution_count": 0,
      "outputs": []
    },
    {
      "metadata": {
        "id": "QbH4GSF3xIY4",
        "colab_type": "code",
        "colab": {}
      },
      "cell_type": "code",
      "source": [
        "results = odeint(\n",
        "    bilans,\n",
        "    variables0,\n",
        "    V\n",
        ")"
      ],
      "execution_count": 0,
      "outputs": []
    },
    {
      "metadata": {
        "id": "ZZhWuInnxUfC",
        "colab_type": "code",
        "colab": {}
      },
      "cell_type": "code",
      "source": [
        "FA = results[:,0]\n",
        "FB = results[:,1]\n",
        "T = results[:,2]\n",
        "\n",
        "X = 1 - FA / FA0"
      ],
      "execution_count": 0,
      "outputs": []
    },
    {
      "metadata": {
        "id": "Vg2eBVjK0Z-Y",
        "colab_type": "code",
        "outputId": "aff55f7f-0330-4e03-8143-48a828a1150c",
        "colab": {
          "base_uri": "https://localhost:8080/",
          "height": 361
        }
      },
      "cell_type": "code",
      "source": [
        "plt.plot(V, X)\n",
        "plt.xlabel('V (L)')\n",
        "plt.ylabel('X (-)')\n",
        "plt.show()"
      ],
      "execution_count": 8,
      "outputs": [
        {
          "output_type": "display_data",
          "data": {
            "image/png": "[encoded data removed]",
            "text/plain": [
              "<Figure size 576x396 with 1 Axes>"
            ]
          },
          "metadata": {
            "tags": []
          }
        }
      ]
    },
    {
      "metadata": {
        "id": "iooMgOG30i5f",
        "colab_type": "code",
        "outputId": "1e63eba8-f10e-4e96-9b8c-a2401ca9c731",
        "colab": {
          "base_uri": "https://localhost:8080/",
          "height": 361
        }
      },
      "cell_type": "code",
      "source": [
        "plt.plot(V, T)\n",
        "plt.xlabel('V (L)')\n",
        "plt.ylabel('T (K)')\n",
        "plt.show()"
      ],
      "execution_count": 9,
      "outputs": [
        {
          "output_type": "display_data",
          "data": {
            "image/png": "[encoded data removed]",
            "text/plain": [
              "<Figure size 576x396 with 1 Axes>"
            ]
          },
          "metadata": {
            "tags": []
          }
        }
      ]
    },
    {
      "metadata": {
        "id": "oN4STTzt0qFi",
        "colab_type": "code",
        "colab": {}
      },
      "cell_type": "code",
      "source": [
        ""
      ],
      "execution_count": 0,
      "outputs": []
    }
  ]
}