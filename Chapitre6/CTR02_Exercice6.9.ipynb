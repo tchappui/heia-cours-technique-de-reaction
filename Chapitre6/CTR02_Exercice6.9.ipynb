{
  "nbformat": 4,
  "nbformat_minor": 0,
  "metadata": {
    "colab": {
      "name": "CTR02-Exercice6.9.ipynb",
      "version": "0.3.2",
      "provenance": [],
      "collapsed_sections": [],
      "include_colab_link": true
    },
    "kernelspec": {
      "name": "python3",
      "display_name": "Python 3"
    }
  },
  "cells": [
    {
      "cell_type": "markdown",
      "metadata": {
        "id": "view-in-github",
        "colab_type": "text"
      },
      "source": [
        "<a href=\"https://colab.research.google.com/github/tchappui/heia-cours-technique-de-reaction/blob/master/Chapitre6/CTR02_Exercice6.9.ipynb\" target=\"_parent\"><img src=\"https://colab.research.google.com/assets/colab-badge.svg\" alt=\"Open In Colab\"/></a>"
      ]
    },
    {
      "metadata": {
        "id": "etNt1PNEe207",
        "colab_type": "code",
        "colab": {}
      },
      "cell_type": "code",
      "source": [
        "import numpy as np\n",
        "from scipy.integrate import odeint\n",
        "import matplotlib.pyplot as plt"
      ],
      "execution_count": 0,
      "outputs": []
    },
    {
      "metadata": {
        "id": "wP9SlDmwfG6A",
        "colab_type": "code",
        "colab": {}
      },
      "cell_type": "code",
      "source": [
        ""
      ],
      "execution_count": 0,
      "outputs": []
    },
    {
      "metadata": {
        "id": "o_0CS-XZfY0H",
        "colab_type": "text"
      },
      "cell_type": "markdown",
      "source": [
        "A = CH3COCH3, B = CH2CO et C = CH4\n",
        "\n",
        "$$A \\to B+C$$\n",
        "\n",
        "**Erreur dans le diamètre**: pas 40inch de diamètre mais 1.050 inch = 0.0266 m"
      ]
    },
    {
      "metadata": {
        "id": "rBHv3LAEfeqP",
        "colab_type": "code",
        "colab": {}
      },
      "cell_type": "code",
      "source": [
        "DeltaCp = -9 # J/mol/K\n",
        "DeltaHR298 = 80770 # J/mol\n",
        "a = 4 / 0.0266 # 1/m\n",
        "U = 110 # J/m2/s/K\n",
        "Ua = U * a # J/m3/s/K\n",
        "FA0 = 7850 / 58 * 1/1000 # mol/s\n",
        "cpA = 163 # J/mol/K\n",
        "cpc = 34.5 # J/mol/K\n",
        "CA0 = 162 / 8.314 / 1035 * 1000 # mol/m3\n",
        "Vdot = FA0 / CA0 # L/s\n",
        "V = 0.001 # m3/tube\n",
        "mcdot = 0.111 # mol/s\n",
        "T0 = 1035 # K\n",
        "Tj0 = 1250 # K\n",
        "alpha = 1"
      ],
      "execution_count": 0,
      "outputs": []
    },
    {
      "metadata": {
        "id": "lI4gEtOSfz6h",
        "colab_type": "code",
        "colab": {}
      },
      "cell_type": "code",
      "source": [
        "def deltaH(T):\n",
        "    return DeltaHR298 + DeltaCp * (T - 298)"
      ],
      "execution_count": 0,
      "outputs": []
    },
    {
      "metadata": {
        "id": "pFJBeKhTipJ-",
        "colab_type": "code",
        "colab": {}
      },
      "cell_type": "code",
      "source": [
        "def k(T):\n",
        "    return np.exp(34.34 - 34222/T)"
      ],
      "execution_count": 0,
      "outputs": []
    },
    {
      "metadata": {
        "id": "4VZE4tZ2mGC6",
        "colab_type": "text"
      },
      "cell_type": "markdown",
      "source": [
        "**Cas adiabatique**"
      ]
    },
    {
      "metadata": {
        "id": "YIaqWdjFmDvz",
        "colab_type": "code",
        "colab": {}
      },
      "cell_type": "code",
      "source": [
        "def bilans_ad(variables, V):\n",
        "    FA, FB, FC, T = variables\n",
        "    \n",
        "    X = 1 - FA/FA0\n",
        "    \n",
        "    CA = CA0 * (1 - X)\n",
        "    CB = CA0 * X\n",
        "    \n",
        "    r1 = k(T) * CA0 * (1-X) * (T0/T) * 1/(1 + alpha * X)\n",
        "    \n",
        "    RA = -r1\n",
        "    RB = r1\n",
        "    RC = r1\n",
        "    \n",
        "    dFA = RA\n",
        "    dFB = RB\n",
        "    dFC = RC\n",
        "    dT = (-deltaH(T)) * r1 / FA0 / cpA\n",
        "    \n",
        "    return [dFA, dFB, dFC, dT]"
      ],
      "execution_count": 0,
      "outputs": []
    },
    {
      "metadata": {
        "id": "oQTDQ_sGnhMo",
        "colab_type": "code",
        "colab": {}
      },
      "cell_type": "code",
      "source": [
        "conditions_initiales_ad = [FA0, 0, 0, T0]\n",
        "Vad = np.arange(0, 0.001001, 0.000001)"
      ],
      "execution_count": 0,
      "outputs": []
    },
    {
      "metadata": {
        "id": "_P5qLkien0be",
        "colab_type": "code",
        "colab": {}
      },
      "cell_type": "code",
      "source": [
        "resultats = odeint(\n",
        "    bilans_ad,\n",
        "    conditions_initiales_ad,\n",
        "    Vad\n",
        ")"
      ],
      "execution_count": 0,
      "outputs": []
    },
    {
      "metadata": {
        "id": "KndsNXUXoJzn",
        "colab_type": "code",
        "colab": {}
      },
      "cell_type": "code",
      "source": [
        "FA = resultats[:,0]\n",
        "FB = resultats[:,1]\n",
        "FC = resultats[:,2]\n",
        "T = resultats[:,3]\n",
        "\n",
        "X = 1 - FA/FA0\n"
      ],
      "execution_count": 0,
      "outputs": []
    },
    {
      "metadata": {
        "id": "8EBJn989oW-N",
        "colab_type": "code",
        "colab": {
          "base_uri": "https://localhost:8080/",
          "height": 284
        },
        "outputId": "7f3f463f-2d33-4f07-b7a6-0501b3e78ad7"
      },
      "cell_type": "code",
      "source": [
        "plt.plot(Vad, X)\n",
        "plt.xlabel('V (L)')\n",
        "plt.ylabel('X (-)')\n",
        "plt.show()"
      ],
      "execution_count": 9,
      "outputs": [
        {
          "output_type": "display_data",
          "data": {
            "image/png": "[encoded data removed]",
            "text/plain": [
              "<Figure size 432x288 with 1 Axes>"
            ]
          },
          "metadata": {
            "tags": []
          }
        }
      ]
    },
    {
      "metadata": {
        "id": "AYyqPFZKuFvP",
        "colab_type": "code",
        "colab": {
          "base_uri": "https://localhost:8080/",
          "height": 283
        },
        "outputId": "bac3ae8d-037d-42c4-c31f-3962ba267db6"
      },
      "cell_type": "code",
      "source": [
        "plt.plot(Vad, T)\n",
        "plt.xlabel('V (L)')\n",
        "plt.ylabel('T (K)')\n",
        "plt.show()"
      ],
      "execution_count": 10,
      "outputs": [
        {
          "output_type": "display_data",
          "data": {
            "image/png": "[encoded data removed]",
            "text/plain": [
              "<Figure size 432x288 with 1 Axes>"
            ]
          },
          "metadata": {
            "tags": []
          }
        }
      ]
    },
    {
      "metadata": {
        "id": "4PvviGM9uXuA",
        "colab_type": "text"
      },
      "cell_type": "markdown",
      "source": [
        "**Cas Tj constant**"
      ]
    },
    {
      "metadata": {
        "id": "HGiOPrRkuKL5",
        "colab_type": "code",
        "colab": {}
      },
      "cell_type": "code",
      "source": [
        "def bilans_tjconst(variables, V):\n",
        "    FA, FB, FC, T = variables\n",
        "    \n",
        "    X = 1 - FA/FA0\n",
        "    \n",
        "    CA = CA0 * (1 - X)\n",
        "    CB = CA0 * X\n",
        "    \n",
        "    r1 = k(T) * CA0 * (1-X) * (T0/T) * 1/(1 + alpha * X)\n",
        "    \n",
        "    RA = -r1\n",
        "    RB = r1\n",
        "    RC = r1\n",
        "    \n",
        "    dFA = RA\n",
        "    dFB = RB\n",
        "    dFC = RC\n",
        "    dT = (Ua * (Tj0 - T) + (-deltaH(T)) * r1) / FA0 / cpA\n",
        "    \n",
        "    return [dFA, dFB, dFC, dT]"
      ],
      "execution_count": 0,
      "outputs": []
    },
    {
      "metadata": {
        "id": "fglPvNenullh",
        "colab_type": "code",
        "colab": {}
      },
      "cell_type": "code",
      "source": [
        "conditions_initiales_tjconst = [FA0, 0, 0, T0]\n",
        "Vtjconst = np.arange(0, 0.001001, 0.000001)"
      ],
      "execution_count": 0,
      "outputs": []
    },
    {
      "metadata": {
        "id": "XscpDIFwuodW",
        "colab_type": "code",
        "colab": {}
      },
      "cell_type": "code",
      "source": [
        "resultats = odeint(\n",
        "    bilans_tjconst,\n",
        "    conditions_initiales_tjconst,\n",
        "    Vtjconst\n",
        ")"
      ],
      "execution_count": 0,
      "outputs": []
    },
    {
      "metadata": {
        "id": "3tcVeIy7uqux",
        "colab_type": "code",
        "colab": {}
      },
      "cell_type": "code",
      "source": [
        "FA = resultats[:,0]\n",
        "FB = resultats[:,1]\n",
        "FC = resultats[:,2]\n",
        "T = resultats[:,3]\n",
        "\n",
        "X = 1 - FA/FA0"
      ],
      "execution_count": 0,
      "outputs": []
    },
    {
      "metadata": {
        "id": "Mjm2vSo2uu9t",
        "colab_type": "code",
        "colab": {
          "base_uri": "https://localhost:8080/",
          "height": 283
        },
        "outputId": "4fd60aee-fe3c-4bdc-a1f7-59fedc3534b5"
      },
      "cell_type": "code",
      "source": [
        "plt.plot(Vtjconst, X)\n",
        "plt.xlabel('V (L)')\n",
        "plt.ylabel('X (-)')\n",
        "plt.show()"
      ],
      "execution_count": 15,
      "outputs": [
        {
          "output_type": "display_data",
          "data": {
            "image/png": "[encoded data removed]",
            "text/plain": [
              "<Figure size 432x288 with 1 Axes>"
            ]
          },
          "metadata": {
            "tags": []
          }
        }
      ]
    },
    {
      "metadata": {
        "id": "FVgKr3n4u0yc",
        "colab_type": "code",
        "colab": {
          "base_uri": "https://localhost:8080/",
          "height": 283
        },
        "outputId": "5d4041f5-26c9-4722-9fd0-fa04bee7f5df"
      },
      "cell_type": "code",
      "source": [
        "plt.plot(Vtjconst, T)\n",
        "plt.xlabel('V (L)')\n",
        "plt.ylabel('T (K)')\n",
        "plt.show()"
      ],
      "execution_count": 16,
      "outputs": [
        {
          "output_type": "display_data",
          "data": {
            "image/png": "[encoded data removed]",
            "text/plain": [
              "<Figure size 432x288 with 1 Axes>"
            ]
          },
          "metadata": {
            "tags": []
          }
        }
      ]
    },
    {
      "metadata": {
        "id": "i9MIqnc5v2Q7",
        "colab_type": "text"
      },
      "cell_type": "markdown",
      "source": [
        "**Cas co-courant**"
      ]
    },
    {
      "metadata": {
        "id": "MqzJqJqDu7JA",
        "colab_type": "code",
        "colab": {}
      },
      "cell_type": "code",
      "source": [
        "def bilans_tjco(variables, V):\n",
        "    FA, FB, FC, T, Tj = variables\n",
        "    \n",
        "    X = 1 - FA/FA0\n",
        "    \n",
        "    CA = CA0 * (1 - X)\n",
        "    CB = CA0 * X\n",
        "    \n",
        "    r1 = k(T) * CA0 * (1-X) * (T0/T) * 1/(1 + alpha * X)\n",
        "    \n",
        "    RA = -r1\n",
        "    RB = r1\n",
        "    RC = r1\n",
        "    \n",
        "    dFA = RA\n",
        "    dFB = RB\n",
        "    dFC = RC\n",
        "    dT = (Ua * (Tj - T) + (-deltaH(T)) * r1) / FA0 / cpA\n",
        "    dTj = Ua * (T - Tj) / mcdot / cpc\n",
        "    \n",
        "    return [dFA, dFB, dFC, dT, dTj]"
      ],
      "execution_count": 0,
      "outputs": []
    },
    {
      "metadata": {
        "id": "EjwdQHBFwNKy",
        "colab_type": "code",
        "colab": {}
      },
      "cell_type": "code",
      "source": [
        "conditions_initiales_tjco = [FA0, 0, 0, T0, Tj0]\n",
        "Vtjco = np.arange(0, 0.001001, 0.000001)"
      ],
      "execution_count": 0,
      "outputs": []
    },
    {
      "metadata": {
        "id": "2TNt-n9CwUqT",
        "colab_type": "code",
        "colab": {}
      },
      "cell_type": "code",
      "source": [
        "resultats = odeint(\n",
        "    bilans_tjco,\n",
        "    conditions_initiales_tjco,\n",
        "    Vtjco\n",
        ")"
      ],
      "execution_count": 0,
      "outputs": []
    },
    {
      "metadata": {
        "id": "zV8EIxjlwb2y",
        "colab_type": "code",
        "colab": {}
      },
      "cell_type": "code",
      "source": [
        "FA = resultats[:,0]\n",
        "FB = resultats[:,1]\n",
        "FC = resultats[:,2]\n",
        "T = resultats[:,3]\n",
        "\n",
        "X = 1 - FA/FA0"
      ],
      "execution_count": 0,
      "outputs": []
    },
    {
      "metadata": {
        "id": "ty_kRUl3wel3",
        "colab_type": "code",
        "colab": {
          "base_uri": "https://localhost:8080/",
          "height": 283
        },
        "outputId": "581a7c53-27f6-43c1-aea5-db93102a2f3d"
      },
      "cell_type": "code",
      "source": [
        "plt.plot(Vtjco, X)\n",
        "plt.xlabel('V (L)')\n",
        "plt.ylabel('X (-)')\n",
        "plt.show()"
      ],
      "execution_count": 21,
      "outputs": [
        {
          "output_type": "display_data",
          "data": {
            "image/png": "[encoded data removed]",
            "text/plain": [
              "<Figure size 432x288 with 1 Axes>"
            ]
          },
          "metadata": {
            "tags": []
          }
        }
      ]
    },
    {
      "metadata": {
        "id": "rX9vSKM3whwb",
        "colab_type": "code",
        "colab": {
          "base_uri": "https://localhost:8080/",
          "height": 283
        },
        "outputId": "1b045b75-e4f8-4199-b3b0-e8dc540f52ed"
      },
      "cell_type": "code",
      "source": [
        "plt.plot(Vtjco, T)\n",
        "plt.xlabel('V (L)')\n",
        "plt.ylabel('T (K)')\n",
        "plt.show()"
      ],
      "execution_count": 22,
      "outputs": [
        {
          "output_type": "display_data",
          "data": {
            "image/png": "[encoded data removed]",
            "text/plain": [
              "<Figure size 432x288 with 1 Axes>"
            ]
          },
          "metadata": {
            "tags": []
          }
        }
      ]
    },
    {
      "metadata": {
        "id": "eQOwcKuswqXH",
        "colab_type": "text"
      },
      "cell_type": "markdown",
      "source": [
        "**Cas contre courant**"
      ]
    },
    {
      "metadata": {
        "id": "lj2lRq5Nws4p",
        "colab_type": "code",
        "colab": {}
      },
      "cell_type": "code",
      "source": [
        "def bilans_tjcounter(variables, V):\n",
        "    FA, FB, FC, T, Tj = variables\n",
        "    \n",
        "    X = 1 - FA/FA0\n",
        "    \n",
        "    CA = CA0 * (1 - X)\n",
        "    CB = CA0 * X\n",
        "    \n",
        "    r1 = k(T) * CA0 * (1-X) * (T0/T) * 1/(1 + alpha * X)\n",
        "    \n",
        "    RA = -r1\n",
        "    RB = r1\n",
        "    RC = r1\n",
        "    \n",
        "    dFA = RA\n",
        "    dFB = RB\n",
        "    dFC = RC\n",
        "    dT = (Ua * (Tj - T) + (-deltaH(T)) * r1) / FA0 / cpA\n",
        "    dTj = Ua * (Tj - T) / mcdot / cpc\n",
        "    \n",
        "    return [dFA, dFB, dFC, dT, dTj]"
      ],
      "execution_count": 0,
      "outputs": []
    },
    {
      "metadata": {
        "id": "I22yGoFkxIrx",
        "colab_type": "text"
      },
      "cell_type": "markdown",
      "source": [
        "A vous de jouer pour l'itération"
      ]
    },
    {
      "metadata": {
        "id": "gbNwE4POwzVq",
        "colab_type": "code",
        "colab": {}
      },
      "cell_type": "code",
      "source": [
        ""
      ],
      "execution_count": 0,
      "outputs": []
    }
  ]
}