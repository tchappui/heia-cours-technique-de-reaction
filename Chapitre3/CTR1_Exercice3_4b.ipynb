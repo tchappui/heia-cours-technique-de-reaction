{
  "nbformat": 4,
  "nbformat_minor": 0,
  "metadata": {
    "colab": {
      "name": "CTR1-Exercice3.4b.ipynb",
      "version": "0.3.2",
      "provenance": [],
      "collapsed_sections": [],
      "include_colab_link": true
    },
    "kernelspec": {
      "name": "python3",
      "display_name": "Python 3"
    }
  },
  "cells": [
    {
      "cell_type": "markdown",
      "metadata": {
        "id": "view-in-github",
        "colab_type": "text"
      },
      "source": [
        "<a href=\"https://colab.research.google.com/github/tchappui/heia-cours-technique-de-reaction/blob/master/Chapitre3/CTR1_Exercice3_4b.ipynb\" target=\"_parent\"><img src=\"https://colab.research.google.com/assets/colab-badge.svg\" alt=\"Open In Colab\"/></a>"
      ]
    },
    {
      "metadata": {
        "id": "r80fs_UKpiBV",
        "colab_type": "text"
      },
      "cell_type": "markdown",
      "source": [
        "# Exercice 3.4bis\n",
        "\n",
        "Examen d'un réacteur CSTR à l'état transitoire"
      ]
    },
    {
      "metadata": {
        "id": "TTNxl6BDqXUv",
        "colab_type": "text"
      },
      "cell_type": "markdown",
      "source": [
        "## Importer les outils"
      ]
    },
    {
      "metadata": {
        "id": "RGaXUbPlquAX",
        "colab_type": "code",
        "colab": {}
      },
      "cell_type": "code",
      "source": [
        "# vecteurs et algèbre linéaire\n",
        "import numpy as np\n",
        "\n",
        "# les outils pour visualiser\n",
        "import matplotlib.pyplot as plt\n",
        "\n",
        "# le solveur\n",
        "import scipy.integrate as solveur\n"
      ],
      "execution_count": 0,
      "outputs": []
    },
    {
      "metadata": {
        "id": "cS3aZXHgqD2C",
        "colab_type": "text"
      },
      "cell_type": "markdown",
      "source": [
        "## Définir les constantes du problème"
      ]
    },
    {
      "metadata": {
        "id": "bKd0VDZTsr13",
        "colab_type": "code",
        "colab": {}
      },
      "cell_type": "code",
      "source": [
        "k = 0.01 # s-1\n",
        "\n",
        "# Dans le feed\n",
        "CAf = 3 # mol/L\n",
        "CBf = 0 # mol/L\n",
        "CCf = 0 # mol/L\n",
        "\n",
        "# Au temps t=0 s\n",
        "CA0 = CAf # mol/L\n",
        "CB0 = 0 # mol/L\n",
        "CC0 = 0 # mol/L\n",
        "\n",
        "V = 21.45 # L\n",
        "Vdot = 0.5 # L/s"
      ],
      "execution_count": 0,
      "outputs": []
    },
    {
      "metadata": {
        "id": "bkog40-fqKeP",
        "colab_type": "text"
      },
      "cell_type": "markdown",
      "source": [
        "## Définir les équations à résoudre"
      ]
    },
    {
      "metadata": {
        "id": "-jvPApNgtSsU",
        "colab_type": "code",
        "colab": {}
      },
      "cell_type": "code",
      "source": [
        "def equations(variables, t, k, V, CAf, CBf, CCf, Vdot):\n",
        "    NA, NB, NC = variables\n",
        "    \n",
        "    CA = NA / V\n",
        "    CB = NB / V\n",
        "    CC = NC / V\n",
        "    \n",
        "    r = k * CA\n",
        "    \n",
        "    RA = -r\n",
        "    RB = r\n",
        "    RC = r\n",
        "    \n",
        "    dNAdt = RA * V + Vdot * CAf - Vdot * CA\n",
        "    dNBdt = RB * V + Vdot * CBf - Vdot * CB\n",
        "    dNCdt = RC * V + Vdot * CCf - Vdot * CC\n",
        "    \n",
        "    return dNAdt, dNBdt, dNCdt"
      ],
      "execution_count": 0,
      "outputs": []
    },
    {
      "metadata": {
        "id": "9Zw-iTDSqPi1",
        "colab_type": "text"
      },
      "cell_type": "markdown",
      "source": [
        "## Définir les conditions initiales"
      ]
    },
    {
      "metadata": {
        "id": "rCSuW6FNu5Ge",
        "colab_type": "code",
        "colab": {}
      },
      "cell_type": "code",
      "source": [
        "conditions_initiales = [CA0 * V, CB0 * V, CC0 * V]"
      ],
      "execution_count": 0,
      "outputs": []
    },
    {
      "metadata": {
        "id": "meRe51WnqiDB",
        "colab_type": "text"
      },
      "cell_type": "markdown",
      "source": [
        "## Résoudre le problème à l'aide du solveur"
      ]
    },
    {
      "metadata": {
        "id": "1LY5EI7KvFqQ",
        "colab_type": "code",
        "colab": {}
      },
      "cell_type": "code",
      "source": [
        "t = np.linspace(0, 1000, 1000) # définir les bornes d'intégration\n",
        "\n",
        "resultats = solveur.odeint(\n",
        "    equations, \n",
        "    conditions_initiales, \n",
        "    t, \n",
        "    (k, V, CAf, CBf, CCf, Vdot)\n",
        ")"
      ],
      "execution_count": 0,
      "outputs": []
    },
    {
      "metadata": {
        "id": "UCi8ESAXahIE",
        "colab_type": "code",
        "colab": {}
      },
      "cell_type": "code",
      "source": [
        "NA = resultats[:,0]\n",
        "NB = resultats[:,1]\n",
        "NC = resultats[:,2]\n",
        "\n",
        "CA = NA / V\n",
        "CB = NB / V\n",
        "CC = NC / V"
      ],
      "execution_count": 0,
      "outputs": []
    },
    {
      "metadata": {
        "id": "iz8gmQzIyJaP",
        "colab_type": "code",
        "colab": {}
      },
      "cell_type": "code",
      "source": [
        "X = (CAf - CA) / CAf"
      ],
      "execution_count": 0,
      "outputs": []
    },
    {
      "metadata": {
        "id": "MG3jzyMFqokZ",
        "colab_type": "text"
      },
      "cell_type": "markdown",
      "source": [
        "## Visualiser les résultats"
      ]
    },
    {
      "metadata": {
        "id": "t61vp4dhwVN6",
        "colab_type": "code",
        "outputId": "2f390522-f92c-43c5-cc2b-88cb9bb79dfa",
        "colab": {
          "base_uri": "https://localhost:8080/",
          "height": 361
        }
      },
      "cell_type": "code",
      "source": [
        "plt.plot(t, CA)\n",
        "plt.xlabel('t')\n",
        "plt.ylabel('CA (mol/L)')\n",
        "plt.legend(['CA'])\n",
        "plt.show()"
      ],
      "execution_count": 69,
      "outputs": [
        {
          "output_type": "display_data",
          "data": {
            "image/png": "[encoded data removed]",
            "text/plain": [
              "<matplotlib.figure.Figure at 0x7fd83cc672e8>"
            ]
          },
          "metadata": {
            "tags": []
          }
        }
      ]
    },
    {
      "metadata": {
        "id": "Rxyo_dAiy-Ea",
        "colab_type": "code",
        "outputId": "49d304e6-e254-42b3-c932-a72194655730",
        "colab": {
          "base_uri": "https://localhost:8080/",
          "height": 35
        }
      },
      "cell_type": "code",
      "source": [
        "t[X > 0.3][0]"
      ],
      "execution_count": 70,
      "outputs": [
        {
          "output_type": "execute_result",
          "data": {
            "text/plain": [
              "218.21821821821823"
            ]
          },
          "metadata": {
            "tags": []
          },
          "execution_count": 70
        }
      ]
    },
    {
      "metadata": {
        "id": "Rm7PbCNkzERX",
        "colab_type": "code",
        "colab": {}
      },
      "cell_type": "code",
      "source": [
        ""
      ],
      "execution_count": 0,
      "outputs": []
    }
  ]
}