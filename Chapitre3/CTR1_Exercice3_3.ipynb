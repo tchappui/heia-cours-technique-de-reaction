{
  "nbformat": 4,
  "nbformat_minor": 0,
  "metadata": {
    "colab": {
      "name": "CTR1-Exercice3.3.ipynb",
      "version": "0.3.2",
      "provenance": [],
      "collapsed_sections": [],
      "include_colab_link": true
    },
    "kernelspec": {
      "name": "python3",
      "display_name": "Python 3"
    }
  },
  "cells": [
    {
      "cell_type": "markdown",
      "metadata": {
        "id": "view-in-github",
        "colab_type": "text"
      },
      "source": [
        "[View in Colaboratory](https://colab.research.google.com/github/tchappui/heia-cours-technique-de-reaction/blob/master/Chapitre3/CTR1_Exercice3_3.ipynb)"
      ]
    },
    {
      "metadata": {
        "id": "r80fs_UKpiBV",
        "colab_type": "text"
      },
      "cell_type": "markdown",
      "source": [
        "# Exercice 3.3\n"
      ]
    },
    {
      "metadata": {
        "id": "TTNxl6BDqXUv",
        "colab_type": "text"
      },
      "cell_type": "markdown",
      "source": [
        "## Importer les outils"
      ]
    },
    {
      "metadata": {
        "id": "RGaXUbPlquAX",
        "colab_type": "code",
        "colab": {}
      },
      "cell_type": "code",
      "source": [
        "# vecteurs et algèbre linéaire\n",
        "import numpy as np\n",
        "\n",
        "# les outils pour visualiser\n",
        "import matplotlib.pyplot as plt\n",
        "\n",
        "# le solveur\n",
        "import scipy.integrate as solveur\n"
      ],
      "execution_count": 0,
      "outputs": []
    },
    {
      "metadata": {
        "id": "cS3aZXHgqD2C",
        "colab_type": "text"
      },
      "cell_type": "markdown",
      "source": [
        "## Définir les constantes du problème"
      ]
    },
    {
      "metadata": {
        "id": "bKd0VDZTsr13",
        "colab_type": "code",
        "colab": {}
      },
      "cell_type": "code",
      "source": [
        "k = 9.92e-6 # m3/mol/s\n",
        "\n",
        "CA0 = 100 # mol/m3\n",
        "CB0 = 80 # mol/m3\n",
        "CC0 = 0 # mol/m3"
      ],
      "execution_count": 0,
      "outputs": []
    },
    {
      "metadata": {
        "id": "bkog40-fqKeP",
        "colab_type": "text"
      },
      "cell_type": "markdown",
      "source": [
        "## Définir les équations à résoudre"
      ]
    },
    {
      "metadata": {
        "id": "-jvPApNgtSsU",
        "colab_type": "code",
        "colab": {}
      },
      "cell_type": "code",
      "source": [
        "def equations(variables, t, k):\n",
        "    CA, CB, CC = variables\n",
        "    \n",
        "    r = k * CA * CB\n",
        "    \n",
        "    RA = -r\n",
        "    RB = -r\n",
        "    RC = r\n",
        "    \n",
        "    dCAdt = RA\n",
        "    dCBdt = RB\n",
        "    dCCdt = RC\n",
        "    \n",
        "    return dCAdt, dCBdt, dCCdt"
      ],
      "execution_count": 0,
      "outputs": []
    },
    {
      "metadata": {
        "id": "9Zw-iTDSqPi1",
        "colab_type": "text"
      },
      "cell_type": "markdown",
      "source": [
        "## Définir les conditions initiales"
      ]
    },
    {
      "metadata": {
        "id": "rCSuW6FNu5Ge",
        "colab_type": "code",
        "colab": {}
      },
      "cell_type": "code",
      "source": [
        "conditions_initiales = [CA0, CB0, CC0] # mol/m3"
      ],
      "execution_count": 0,
      "outputs": []
    },
    {
      "metadata": {
        "id": "meRe51WnqiDB",
        "colab_type": "text"
      },
      "cell_type": "markdown",
      "source": [
        "## Résoudre le problème à l'aide du solveur"
      ]
    },
    {
      "metadata": {
        "id": "1LY5EI7KvFqQ",
        "colab_type": "code",
        "colab": {}
      },
      "cell_type": "code",
      "source": [
        "t = np.linspace(0, 20000, 100000) # définir les bornes d'intégration\n",
        "\n",
        "resultats = solveur.odeint(\n",
        "    equations, \n",
        "    conditions_initiales, \n",
        "    t, \n",
        "    (k,)\n",
        ")"
      ],
      "execution_count": 0,
      "outputs": []
    },
    {
      "metadata": {
        "id": "UCi8ESAXahIE",
        "colab_type": "code",
        "colab": {}
      },
      "cell_type": "code",
      "source": [
        "CB = resultats[:,1]"
      ],
      "execution_count": 0,
      "outputs": []
    },
    {
      "metadata": {
        "id": "iz8gmQzIyJaP",
        "colab_type": "code",
        "colab": {}
      },
      "cell_type": "code",
      "source": [
        "X = (CB0 - CB) / CB0"
      ],
      "execution_count": 0,
      "outputs": []
    },
    {
      "metadata": {
        "id": "MG3jzyMFqokZ",
        "colab_type": "text"
      },
      "cell_type": "markdown",
      "source": [
        "## Visualiser les résultats"
      ]
    },
    {
      "metadata": {
        "id": "t61vp4dhwVN6",
        "colab_type": "code",
        "colab": {
          "base_uri": "https://localhost:8080/",
          "height": 361
        },
        "outputId": "194f3521-702b-48f9-c001-4ca34bf937a6"
      },
      "cell_type": "code",
      "source": [
        "plt.plot(t, X)\n",
        "plt.xlabel('t')\n",
        "plt.ylabel('X (-)')\n",
        "plt.legend(['X'])\n",
        "plt.show()"
      ],
      "execution_count": 8,
      "outputs": [
        {
          "output_type": "display_data",
          "data": {
            "image/png": "[encoded data removed]",
            "text/plain": [
              "<matplotlib.figure.Figure at 0x7f2b2f62f898>"
            ]
          },
          "metadata": {
            "tags": []
          }
        }
      ]
    },
    {
      "metadata": {
        "id": "Rxyo_dAiy-Ea",
        "colab_type": "code",
        "colab": {
          "base_uri": "https://localhost:8080/",
          "height": 34
        },
        "outputId": "6b68c448-61d4-49d8-ccd5-5a97cb17293a"
      },
      "cell_type": "code",
      "source": [
        "t[X > 0.99][0]"
      ],
      "execution_count": 9,
      "outputs": [
        {
          "output_type": "execute_result",
          "data": {
            "text/plain": [
              "15297.152971529717"
            ]
          },
          "metadata": {
            "tags": []
          },
          "execution_count": 9
        }
      ]
    },
    {
      "metadata": {
        "id": "Rm7PbCNkzERX",
        "colab_type": "code",
        "colab": {}
      },
      "cell_type": "code",
      "source": [
        ""
      ],
      "execution_count": 0,
      "outputs": []
    }
  ]
}