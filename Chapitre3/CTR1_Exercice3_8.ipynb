{
  "nbformat": 4,
  "nbformat_minor": 0,
  "metadata": {
    "colab": {
      "name": "CTR1-Exercice3.8.ipynb",
      "version": "0.3.2",
      "provenance": [],
      "include_colab_link": true
    },
    "kernelspec": {
      "name": "python3",
      "display_name": "Python 3"
    }
  },
  "cells": [
    {
      "cell_type": "markdown",
      "metadata": {
        "id": "view-in-github",
        "colab_type": "text"
      },
      "source": [
        "<a href=\"https://colab.research.google.com/github/tchappui/heia-cours-technique-de-reaction/blob/master/Chapitre3/CTR1_Exercice3_8.ipynb\" target=\"_parent\"><img src=\"https://colab.research.google.com/assets/colab-badge.svg\" alt=\"Open In Colab\"/></a>"
      ]
    },
    {
      "metadata": {
        "id": "ni8kr5ZUF1_p",
        "colab_type": "text"
      },
      "cell_type": "markdown",
      "source": [
        "# Exercice 3.8"
      ]
    },
    {
      "metadata": {
        "id": "yBQT4trxGEvD",
        "colab_type": "text"
      },
      "cell_type": "markdown",
      "source": [
        "## Importer les outils"
      ]
    },
    {
      "metadata": {
        "id": "FYdKLLL5FwFK",
        "colab_type": "code",
        "colab": {}
      },
      "cell_type": "code",
      "source": [
        "# vecteurs et algèbre linéaire\n",
        "import numpy as np\n",
        "\n",
        "# les outils pour visualiser\n",
        "import matplotlib.pyplot as plt\n",
        "\n",
        "# le solveur\n",
        "import scipy.integrate as solveur"
      ],
      "execution_count": 0,
      "outputs": []
    },
    {
      "metadata": {
        "id": "P_d-xLGqGLhU",
        "colab_type": "text"
      },
      "cell_type": "markdown",
      "source": [
        "## Définir les constantes du problème"
      ]
    },
    {
      "metadata": {
        "id": "ZMZAonikF4WD",
        "colab_type": "code",
        "colab": {}
      },
      "cell_type": "code",
      "source": [
        "k = 10 # L2/mol2/s\n",
        "Vdot = 4 # mol/s\n",
        "\n",
        "R = 0.082057338 # L*atm/K/mol\n",
        "P = 16.4 # atm\n",
        "T = 500 # K\n",
        "\n",
        "CT = P/R/T\n",
        "\n",
        "xA0 = 0.5 # -\n",
        "xB0 = 0.5 # -\n",
        "xC0 = 0 # -\n",
        "\n",
        "\n",
        "CA0 = xA0 * CT # mol/L\n",
        "CB0 = xB0 * CT  # mol/L\n",
        "CC0 = xC0 * CT  # mol/L\n",
        "\n",
        "FA0 = Vdot * CA0 # mol/s\n",
        "FB0 = Vdot * CB0 # mol/s\n",
        "FC0 = Vdot * CC0 # mol/s"
      ],
      "execution_count": 0,
      "outputs": []
    },
    {
      "metadata": {
        "id": "3_6RKTf2GM9d",
        "colab_type": "text"
      },
      "cell_type": "markdown",
      "source": [
        "## Définir les équations à résoudre"
      ]
    },
    {
      "metadata": {
        "id": "yUm58d4uJ1qK",
        "colab_type": "code",
        "colab": {}
      },
      "cell_type": "code",
      "source": [
        "def equations(variables, V, CT, k):\n",
        "    FA, FB, FC = variables\n",
        "    \n",
        "    xA = FA / (FA+FB+FC)\n",
        "    xB = FB / (FA+FB+FC)\n",
        "    \n",
        "    CA = xA * CT\n",
        "    CB = xB * CT\n",
        "    \n",
        "    r = k * CA**2 * CB\n",
        "    \n",
        "    RA = -2 * r\n",
        "    RB = -r\n",
        "    RC = r\n",
        "    \n",
        "    dFA = RA\n",
        "    dFB = RB\n",
        "    dFC = RC\n",
        "    \n",
        "    return dFA, dFB, dFC\n",
        "    "
      ],
      "execution_count": 0,
      "outputs": []
    },
    {
      "metadata": {
        "id": "nfRaIZWXGSkK",
        "colab_type": "text"
      },
      "cell_type": "markdown",
      "source": [
        "## Définir les conditions initiales et bornes d'intégration"
      ]
    },
    {
      "metadata": {
        "id": "auOx3SfdMW4A",
        "colab_type": "code",
        "colab": {}
      },
      "cell_type": "code",
      "source": [
        "conditions_initiales = [FA0, FB0, FC0]\n",
        "\n",
        "V = np.arange(0, 250.001, 0.001)"
      ],
      "execution_count": 0,
      "outputs": []
    },
    {
      "metadata": {
        "id": "I1nvDwXeGUGH",
        "colab_type": "text"
      },
      "cell_type": "markdown",
      "source": [
        "## Résoudre le problème à l'aide du solveur"
      ]
    },
    {
      "metadata": {
        "id": "gemmcgT2Mq-C",
        "colab_type": "code",
        "colab": {}
      },
      "cell_type": "code",
      "source": [
        "resultats = solveur.odeint(\n",
        "    equations,\n",
        "    conditions_initiales,\n",
        "    V,\n",
        "    (CT, k)\n",
        ")"
      ],
      "execution_count": 0,
      "outputs": []
    },
    {
      "metadata": {
        "id": "-K2UnsdkNOak",
        "colab_type": "code",
        "colab": {}
      },
      "cell_type": "code",
      "source": [
        "FA = resultats[:,0] \n",
        "FB = resultats[:,1]\n",
        "FC = resultats[:,2] \n",
        "\n",
        "X = 1 - FA / FA0\n",
        "\n",
        "xA = FA / (FA+FB+FC)\n",
        "xB = FB / (FA+FB+FC)\n",
        "xC = FC / (FA+FB+FC)\n",
        "\n",
        "CA = xA * CT \n",
        "CB = xB * CT\n",
        "CC = xC * CT"
      ],
      "execution_count": 0,
      "outputs": []
    },
    {
      "metadata": {
        "id": "PfHptNUWGZ1C",
        "colab_type": "text"
      },
      "cell_type": "markdown",
      "source": [
        "## Visualiser les résultats"
      ]
    },
    {
      "metadata": {
        "id": "qF9NLbvxNabS",
        "colab_type": "code",
        "outputId": "b4c6a969-c93d-498e-d7ee-b286bd023ccd",
        "colab": {
          "base_uri": "https://localhost:8080/",
          "height": 361
        }
      },
      "cell_type": "code",
      "source": [
        "plt.figure(1)\n",
        "plt.plot(V, CA, V, CB, V, CC)\n",
        "plt.xlabel('V (L)')\n",
        "plt.ylabel('Ci (mol/L)')\n",
        "plt.legend(['A', 'B', 'C'])\n",
        "plt.show()"
      ],
      "execution_count": 7,
      "outputs": [
        {
          "output_type": "display_data",
          "data": {
            "image/png": "[encoded data removed]",
            "text/plain": [
              "<matplotlib.figure.Figure at 0x7f117bfb8400>"
            ]
          },
          "metadata": {
            "tags": []
          }
        }
      ]
    },
    {
      "metadata": {
        "id": "9fTun3g2NuaI",
        "colab_type": "code",
        "outputId": "9f20a86b-485b-4c9b-cade-ed59cded92d6",
        "colab": {
          "base_uri": "https://localhost:8080/",
          "height": 35
        }
      },
      "cell_type": "code",
      "source": [
        "X[V==250]"
      ],
      "execution_count": 8,
      "outputs": [
        {
          "output_type": "execute_result",
          "data": {
            "text/plain": [
              "array([0.99471571])"
            ]
          },
          "metadata": {
            "tags": []
          },
          "execution_count": 8
        }
      ]
    },
    {
      "metadata": {
        "id": "rex_qucmOq23",
        "colab_type": "code",
        "colab": {}
      },
      "cell_type": "code",
      "source": [
        "V_X_099 = V[X>0.99][0]"
      ],
      "execution_count": 0,
      "outputs": []
    },
    {
      "metadata": {
        "id": "t4_9RQx64kKL",
        "colab_type": "code",
        "colab": {}
      },
      "cell_type": "code",
      "source": [
        "V_X_08 = V[X>0.8][0]"
      ],
      "execution_count": 0,
      "outputs": []
    },
    {
      "metadata": {
        "id": "3-EV5d7W4w5c",
        "colab_type": "code",
        "colab": {
          "base_uri": "https://localhost:8080/",
          "height": 35
        },
        "outputId": "0c04aa98-d646-4f81-a1df-c8983945faca"
      },
      "cell_type": "code",
      "source": [
        "tau_X_099 = V_X_099 / Vdot\n",
        "tau_X_099"
      ],
      "execution_count": 11,
      "outputs": [
        {
          "output_type": "execute_result",
          "data": {
            "text/plain": [
              "34.173"
            ]
          },
          "metadata": {
            "tags": []
          },
          "execution_count": 11
        }
      ]
    },
    {
      "metadata": {
        "id": "QU58sBUk440v",
        "colab_type": "code",
        "colab": {
          "base_uri": "https://localhost:8080/",
          "height": 35
        },
        "outputId": "0e36f61c-f554-4887-930a-698a4c796bb4"
      },
      "cell_type": "code",
      "source": [
        "tau_X_08 = V_X_08 / Vdot\n",
        "tau_X_08"
      ],
      "execution_count": 12,
      "outputs": [
        {
          "output_type": "execute_result",
          "data": {
            "text/plain": [
              "2.5095"
            ]
          },
          "metadata": {
            "tags": []
          },
          "execution_count": 12
        }
      ]
    },
    {
      "metadata": {
        "id": "urNNQdqV4_aV",
        "colab_type": "code",
        "colab": {}
      },
      "cell_type": "code",
      "source": [
        ""
      ],
      "execution_count": 0,
      "outputs": []
    }
  ]
}