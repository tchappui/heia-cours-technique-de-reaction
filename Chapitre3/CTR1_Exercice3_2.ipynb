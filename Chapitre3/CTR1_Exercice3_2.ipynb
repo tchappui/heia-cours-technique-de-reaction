{
  "nbformat": 4,
  "nbformat_minor": 0,
  "metadata": {
    "colab": {
      "name": "CTR1-Exercice3.2.ipynb",
      "version": "0.3.2",
      "provenance": [],
      "collapsed_sections": [],
      "include_colab_link": true
    },
    "kernelspec": {
      "name": "python3",
      "display_name": "Python 3"
    }
  },
  "cells": [
    {
      "cell_type": "markdown",
      "metadata": {
        "id": "view-in-github",
        "colab_type": "text"
      },
      "source": [
        "[View in Colaboratory](https://colab.research.google.com/github/tchappui/heia-cours-technique-de-reaction/blob/master/Chapitre3/CTR1_Exercice3_2.ipynb)"
      ]
    },
    {
      "metadata": {
        "id": "r80fs_UKpiBV",
        "colab_type": "text"
      },
      "cell_type": "markdown",
      "source": [
        "# Exercice 3.2"
      ]
    },
    {
      "metadata": {
        "id": "TTNxl6BDqXUv",
        "colab_type": "text"
      },
      "cell_type": "markdown",
      "source": [
        "## Importer les outils"
      ]
    },
    {
      "metadata": {
        "id": "RGaXUbPlquAX",
        "colab_type": "code",
        "colab": {}
      },
      "cell_type": "code",
      "source": [
        "# vecteurs et algèbre linéaire\n",
        "import numpy as np\n",
        "\n",
        "# les outils pour visualiser\n",
        "import matplotlib.pyplot as plt\n",
        "\n",
        "# le solveur\n",
        "import scipy.integrate as solveur\n"
      ],
      "execution_count": 0,
      "outputs": []
    },
    {
      "metadata": {
        "id": "cS3aZXHgqD2C",
        "colab_type": "text"
      },
      "cell_type": "markdown",
      "source": [
        "## Définir les constantes du problème"
      ]
    },
    {
      "metadata": {
        "id": "bKd0VDZTsr13",
        "colab_type": "code",
        "colab": {}
      },
      "cell_type": "code",
      "source": [
        "k = 0.01 # s-1\n",
        "C10 = 3 # mol/L\n",
        "C20 = 0 # mol/L\n",
        "C30 = 0 # mol/L\n",
        "V = 100 # L"
      ],
      "execution_count": 0,
      "outputs": []
    },
    {
      "metadata": {
        "id": "bkog40-fqKeP",
        "colab_type": "text"
      },
      "cell_type": "markdown",
      "source": [
        "## Définir les équations à résoudre"
      ]
    },
    {
      "metadata": {
        "id": "-jvPApNgtSsU",
        "colab_type": "code",
        "colab": {}
      },
      "cell_type": "code",
      "source": [
        "def equations(variables, t, k, V):\n",
        "    N1, N2, N3 = variables\n",
        "    \n",
        "    C1 = N1 / V\n",
        "    \n",
        "    r = k * C1\n",
        "    \n",
        "    R1 = -r\n",
        "    R2 = r\n",
        "    R3 = r\n",
        "    \n",
        "    dN1dt = R1 * V\n",
        "    dN2dt = R2 * V\n",
        "    dN3dt = R3 * V\n",
        "    \n",
        "    return dN1dt, dN2dt, dN3dt"
      ],
      "execution_count": 0,
      "outputs": []
    },
    {
      "metadata": {
        "id": "9Zw-iTDSqPi1",
        "colab_type": "text"
      },
      "cell_type": "markdown",
      "source": [
        "## Définir les conditions initiales"
      ]
    },
    {
      "metadata": {
        "id": "rCSuW6FNu5Ge",
        "colab_type": "code",
        "colab": {}
      },
      "cell_type": "code",
      "source": [
        "conditions_initiales = [C10 * V, C20 * V, C30 * V]"
      ],
      "execution_count": 0,
      "outputs": []
    },
    {
      "metadata": {
        "id": "meRe51WnqiDB",
        "colab_type": "text"
      },
      "cell_type": "markdown",
      "source": [
        "## Résoudre le problème à l'aide du solveur"
      ]
    },
    {
      "metadata": {
        "id": "1LY5EI7KvFqQ",
        "colab_type": "code",
        "colab": {}
      },
      "cell_type": "code",
      "source": [
        "t = np.linspace(0, 40, 1000) # définir les bornes d'intégration\n",
        "\n",
        "resultats = solveur.odeint(\n",
        "    equations, \n",
        "    conditions_initiales, \n",
        "    t, \n",
        "    (k, V)\n",
        ")"
      ],
      "execution_count": 0,
      "outputs": []
    },
    {
      "metadata": {
        "id": "UCi8ESAXahIE",
        "colab_type": "code",
        "colab": {}
      },
      "cell_type": "code",
      "source": [
        "N1 = resultats[:,0]"
      ],
      "execution_count": 0,
      "outputs": []
    },
    {
      "metadata": {
        "id": "iz8gmQzIyJaP",
        "colab_type": "code",
        "colab": {}
      },
      "cell_type": "code",
      "source": [
        "N10 = C10 * V\n",
        "X = (N10 - N1) / N10"
      ],
      "execution_count": 0,
      "outputs": []
    },
    {
      "metadata": {
        "id": "MG3jzyMFqokZ",
        "colab_type": "text"
      },
      "cell_type": "markdown",
      "source": [
        "## Visualiser les résultats"
      ]
    },
    {
      "metadata": {
        "id": "t61vp4dhwVN6",
        "colab_type": "code",
        "colab": {
          "base_uri": "https://localhost:8080/",
          "height": 361
        },
        "outputId": "0bd9c4c3-a01f-4880-9829-902a00a7420a"
      },
      "cell_type": "code",
      "source": [
        "plt.plot(t, X)\n",
        "plt.xlabel('t')\n",
        "plt.ylabel('X (-)')\n",
        "plt.legend(['X'])\n",
        "plt.show()"
      ],
      "execution_count": 8,
      "outputs": [
        {
          "output_type": "display_data",
          "data": {
            "image/png": "[encoded data removed]",
            "text/plain": [
              "<matplotlib.figure.Figure at 0x7fd087242b70>"
            ]
          },
          "metadata": {
            "tags": []
          }
        }
      ]
    },
    {
      "metadata": {
        "id": "Rxyo_dAiy-Ea",
        "colab_type": "code",
        "colab": {
          "base_uri": "https://localhost:8080/",
          "height": 34
        },
        "outputId": "de773c12-8353-43a6-b179-78221ea8958a"
      },
      "cell_type": "code",
      "source": [
        "t[X > 0.3][0]"
      ],
      "execution_count": 9,
      "outputs": [
        {
          "output_type": "execute_result",
          "data": {
            "text/plain": [
              "35.67567567567568"
            ]
          },
          "metadata": {
            "tags": []
          },
          "execution_count": 9
        }
      ]
    },
    {
      "metadata": {
        "id": "Rm7PbCNkzERX",
        "colab_type": "code",
        "colab": {}
      },
      "cell_type": "code",
      "source": [
        ""
      ],
      "execution_count": 0,
      "outputs": []
    }
  ]
}