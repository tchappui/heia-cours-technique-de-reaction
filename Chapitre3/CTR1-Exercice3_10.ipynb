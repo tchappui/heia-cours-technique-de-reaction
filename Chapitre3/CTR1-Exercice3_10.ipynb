{
  "nbformat": 4,
  "nbformat_minor": 0,
  "metadata": {
    "colab": {
      "name": "CTR1-Exercice3_10.ipynb",
      "version": "0.3.2",
      "provenance": [],
      "include_colab_link": true
    },
    "kernelspec": {
      "name": "python3",
      "display_name": "Python 3"
    }
  },
  "cells": [
    {
      "cell_type": "markdown",
      "metadata": {
        "id": "view-in-github",
        "colab_type": "text"
      },
      "source": [
        "<a href=\"https://colab.research.google.com/github/tchappui/heia-cours-technique-de-reaction/blob/master/Chapitre3/CTR1-Exercice3_10.ipynb\" target=\"_parent\"><img src=\"https://colab.research.google.com/assets/colab-badge.svg\" alt=\"Open In Colab\"/></a>"
      ]
    },
    {
      "metadata": {
        "id": "J_YvINGk61cW",
        "colab_type": "text"
      },
      "cell_type": "markdown",
      "source": [
        "# CTR1 - Exercice 3.10"
      ]
    },
    {
      "metadata": {
        "id": "cw3g-NFS64Kt",
        "colab_type": "code",
        "colab": {}
      },
      "cell_type": "code",
      "source": [
        "# vecteurs et algèbre linéaire\n",
        "import numpy as np\n",
        "\n",
        "# les outils pour visualiser\n",
        "import matplotlib.pyplot as plt\n",
        "\n",
        "# le solveur\n",
        "import scipy.integrate as solveur"
      ],
      "execution_count": 0,
      "outputs": []
    },
    {
      "metadata": {
        "id": "bpcDqdre6v7u",
        "colab_type": "code",
        "colab": {}
      },
      "cell_type": "code",
      "source": [
        "V = 100 # L\n",
        "CS0 = 2 # mol/L\n",
        "Vm = 2.97e-2 # mol/L/min\n",
        "Km = 0.342 # mol/L\n",
        "KiS = 0.379 # mol/L\n"
      ],
      "execution_count": 0,
      "outputs": []
    },
    {
      "metadata": {
        "id": "42LIyhu485VZ",
        "colab_type": "code",
        "colab": {}
      },
      "cell_type": "code",
      "source": [
        "def equations(variables, tau):\n",
        "    CS = variables\n",
        "    \n",
        "    r = Vm * CS / (Km + CS + CS**2/KiS)\n",
        "    RS = -r\n",
        "    \n",
        "    dCS = RS\n",
        "    \n",
        "    return dCS"
      ],
      "execution_count": 0,
      "outputs": []
    },
    {
      "metadata": {
        "id": "Wc0xU3A97cQU",
        "colab_type": "text"
      },
      "cell_type": "markdown",
      "source": [
        "## Pour une conversion de 80%"
      ]
    },
    {
      "metadata": {
        "id": "4YuXBPrB7iGM",
        "colab_type": "text"
      },
      "cell_type": "markdown",
      "source": [
        "### CSTR"
      ]
    },
    {
      "metadata": {
        "id": "U5gaLKgW65A4",
        "colab_type": "code",
        "colab": {
          "base_uri": "https://localhost:8080/",
          "height": 34
        },
        "outputId": "cf504f84-43e6-4abb-f286-9d8f6dcf3a59"
      },
      "cell_type": "code",
      "source": [
        "Xfinal = 0.8\n",
        "CS = CS0 * (1 - Xfinal)\n",
        "RS = - Vm * CS / (Km + CS + CS**2/KiS)\n",
        "tau_CSTR = (CS0 - CS) / -RS\n",
        "\n",
        "tau_CSTR"
      ],
      "execution_count": 4,
      "outputs": [
        {
          "output_type": "execute_result",
          "data": {
            "text/plain": [
              "156.78970887414158"
            ]
          },
          "metadata": {
            "tags": []
          },
          "execution_count": 4
        }
      ]
    },
    {
      "metadata": {
        "id": "IQChfC0lA9Ch",
        "colab_type": "code",
        "colab": {
          "base_uri": "https://localhost:8080/",
          "height": 34
        },
        "outputId": "5473cbe9-252a-41ec-da9a-3ebdaa2c84b2"
      },
      "cell_type": "code",
      "source": [
        "Vdot_CSTR = V / tau_CSTR \n",
        "Vdot_CSTR"
      ],
      "execution_count": 5,
      "outputs": [
        {
          "output_type": "execute_result",
          "data": {
            "text/plain": [
              "0.6377969620459728"
            ]
          },
          "metadata": {
            "tags": []
          },
          "execution_count": 5
        }
      ]
    },
    {
      "metadata": {
        "id": "PAMqw-L59Lud",
        "colab_type": "text"
      },
      "cell_type": "markdown",
      "source": [
        "### PFR"
      ]
    },
    {
      "metadata": {
        "id": "o6vLDZTW8k5Z",
        "colab_type": "code",
        "colab": {}
      },
      "cell_type": "code",
      "source": [
        "tau_PFR = np.linspace(0, 300, 3001)\n",
        "resultats = solveur.odeint(equations, [CS0], tau_PFR)\n",
        "\n",
        "CS = resultats[:,0]\n",
        "X = 1 - CS/CS0"
      ],
      "execution_count": 0,
      "outputs": []
    },
    {
      "metadata": {
        "id": "EVrJgUVA-2E5",
        "colab_type": "code",
        "colab": {
          "base_uri": "https://localhost:8080/",
          "height": 34
        },
        "outputId": "cde037d6-9001-49fa-9287-b44d89bc0739"
      },
      "cell_type": "code",
      "source": [
        "tau_PFR = tau_PFR[X>Xfinal][0]\n",
        "tau_PFR"
      ],
      "execution_count": 7,
      "outputs": [
        {
          "output_type": "execute_result",
          "data": {
            "text/plain": [
              "243.0"
            ]
          },
          "metadata": {
            "tags": []
          },
          "execution_count": 7
        }
      ]
    },
    {
      "metadata": {
        "id": "putFVSstA4GH",
        "colab_type": "code",
        "colab": {
          "base_uri": "https://localhost:8080/",
          "height": 34
        },
        "outputId": "7db971c9-9ec6-43eb-dec5-708b9fad4482"
      },
      "cell_type": "code",
      "source": [
        "Vdot_PFR = V/tau_PFR\n",
        "Vdot_PFR"
      ],
      "execution_count": 8,
      "outputs": [
        {
          "output_type": "execute_result",
          "data": {
            "text/plain": [
              "0.411522633744856"
            ]
          },
          "metadata": {
            "tags": []
          },
          "execution_count": 8
        }
      ]
    },
    {
      "metadata": {
        "id": "iwJtIWovAo1h",
        "colab_type": "text"
      },
      "cell_type": "markdown",
      "source": [
        "## Pour un conversion de 99%"
      ]
    },
    {
      "metadata": {
        "id": "57UVHtOjBFiv",
        "colab_type": "text"
      },
      "cell_type": "markdown",
      "source": [
        "### CSTR"
      ]
    },
    {
      "metadata": {
        "id": "dBDd53U6_tSf",
        "colab_type": "code",
        "colab": {
          "base_uri": "https://localhost:8080/",
          "height": 34
        },
        "outputId": "0fe670b5-5f1c-4704-c69a-050eb6db8119"
      },
      "cell_type": "code",
      "source": [
        "Xfinal = 0.99\n",
        "CS = CS0 * (1 - Xfinal)\n",
        "RS = - Vm * CS / (Km + CS + CS**2/KiS)\n",
        "tau_CSTR = (CS0 - CS) / -RS\n",
        "\n",
        "tau_CSTR"
      ],
      "execution_count": 9,
      "outputs": [
        {
          "output_type": "execute_result",
          "data": {
            "text/plain": [
              "1210.1846965699199"
            ]
          },
          "metadata": {
            "tags": []
          },
          "execution_count": 9
        }
      ]
    },
    {
      "metadata": {
        "id": "MKh5BKAOJ6_X",
        "colab_type": "code",
        "colab": {
          "base_uri": "https://localhost:8080/",
          "height": 34
        },
        "outputId": "0419636e-5c22-4295-94aa-8ed167af71b3"
      },
      "cell_type": "code",
      "source": [
        "Vdot_PFR = V/tau_PFR\n",
        "Vdot_PFR"
      ],
      "execution_count": 10,
      "outputs": [
        {
          "output_type": "execute_result",
          "data": {
            "text/plain": [
              "0.411522633744856"
            ]
          },
          "metadata": {
            "tags": []
          },
          "execution_count": 10
        }
      ]
    },
    {
      "metadata": {
        "id": "OPqHBFm7BIXf",
        "colab_type": "text"
      },
      "cell_type": "markdown",
      "source": [
        "### PFR"
      ]
    },
    {
      "metadata": {
        "id": "_RHIV0boBDnq",
        "colab_type": "code",
        "colab": {}
      },
      "cell_type": "code",
      "source": [
        "tau_PFR = np.linspace(0, 300, 3001)\n",
        "resultats = solveur.odeint(equations, [CS0], tau_PFR)\n",
        "\n",
        "CS = resultats[:,0]\n",
        "X = 1 - CS/CS0"
      ],
      "execution_count": 0,
      "outputs": []
    },
    {
      "metadata": {
        "id": "ruhogSW3BNyO",
        "colab_type": "code",
        "colab": {
          "base_uri": "https://localhost:8080/",
          "height": 34
        },
        "outputId": "85768714-c32b-4856-e4c3-666dd3ba297e"
      },
      "cell_type": "code",
      "source": [
        "tau_PFR = tau_PFR[X>Xfinal][0]\n",
        "tau_PFR"
      ],
      "execution_count": 12,
      "outputs": [
        {
          "output_type": "execute_result",
          "data": {
            "text/plain": [
              "297.40000000000003"
            ]
          },
          "metadata": {
            "tags": []
          },
          "execution_count": 12
        }
      ]
    },
    {
      "metadata": {
        "id": "iHLgPgVwBRe0",
        "colab_type": "code",
        "colab": {
          "base_uri": "https://localhost:8080/",
          "height": 34
        },
        "outputId": "1789f9ca-f5d2-4394-c3a1-604abacc404c"
      },
      "cell_type": "code",
      "source": [
        "Vdot_PFR = V/tau_PFR\n",
        "Vdot_PFR"
      ],
      "execution_count": 13,
      "outputs": [
        {
          "output_type": "execute_result",
          "data": {
            "text/plain": [
              "0.33624747814391387"
            ]
          },
          "metadata": {
            "tags": []
          },
          "execution_count": 13
        }
      ]
    },
    {
      "metadata": {
        "id": "JzYgn5-UBTVL",
        "colab_type": "code",
        "colab": {}
      },
      "cell_type": "code",
      "source": [
        ""
      ],
      "execution_count": 0,
      "outputs": []
    }
  ]
}