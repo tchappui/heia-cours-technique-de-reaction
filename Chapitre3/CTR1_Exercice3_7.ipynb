{
  "nbformat": 4,
  "nbformat_minor": 0,
  "metadata": {
    "colab": {
      "name": "CTR1-Exercice3.7.ipynb",
      "version": "0.3.2",
      "provenance": [],
      "include_colab_link": true
    },
    "kernelspec": {
      "name": "python3",
      "display_name": "Python 3"
    }
  },
  "cells": [
    {
      "cell_type": "markdown",
      "metadata": {
        "id": "view-in-github",
        "colab_type": "text"
      },
      "source": [
        "<a href=\"https://colab.research.google.com/github/tchappui/heia-cours-technique-de-reaction/blob/master/Chapitre3/CTR1_Exercice3_7.ipynb\" target=\"_parent\"><img src=\"https://colab.research.google.com/assets/colab-badge.svg\" alt=\"Open In Colab\"/></a>"
      ]
    },
    {
      "metadata": {
        "id": "ni8kr5ZUF1_p",
        "colab_type": "text"
      },
      "cell_type": "markdown",
      "source": [
        "# Exercice 3.7"
      ]
    },
    {
      "metadata": {
        "id": "yBQT4trxGEvD",
        "colab_type": "text"
      },
      "cell_type": "markdown",
      "source": [
        "## Importer les outils"
      ]
    },
    {
      "metadata": {
        "id": "FYdKLLL5FwFK",
        "colab_type": "code",
        "colab": {}
      },
      "cell_type": "code",
      "source": [
        "# vecteurs et algèbre linéaire\n",
        "import numpy as np\n",
        "\n",
        "# les outils pour visualiser\n",
        "import matplotlib.pyplot as plt\n",
        "\n",
        "# le solveur\n",
        "import scipy.integrate as solveur"
      ],
      "execution_count": 0,
      "outputs": []
    },
    {
      "metadata": {
        "id": "P_d-xLGqGLhU",
        "colab_type": "text"
      },
      "cell_type": "markdown",
      "source": [
        "## Définir les constantes du problème"
      ]
    },
    {
      "metadata": {
        "id": "ZMZAonikF4WD",
        "colab_type": "code",
        "colab": {}
      },
      "cell_type": "code",
      "source": [
        "k = 0.23 # 1/min\n",
        "Vdot = 10 # mol/min\n",
        "CA0 = 3 # mol/L\n",
        "CB0 = 0 # mol/L\n",
        "\n",
        "FA0 = Vdot * CA0 # mol/min\n",
        "FB0 = Vdot * CB0 # mol/min"
      ],
      "execution_count": 0,
      "outputs": []
    },
    {
      "metadata": {
        "id": "3_6RKTf2GM9d",
        "colab_type": "text"
      },
      "cell_type": "markdown",
      "source": [
        "## Définir les équations à résoudre"
      ]
    },
    {
      "metadata": {
        "id": "yUm58d4uJ1qK",
        "colab_type": "code",
        "colab": {}
      },
      "cell_type": "code",
      "source": [
        "def equations(variables, V, Vdot, k):\n",
        "    FA, FB = variables\n",
        "    \n",
        "    CA = FA / Vdot\n",
        "    \n",
        "    r = k * CA\n",
        "    \n",
        "    RA = -r\n",
        "    RB = r\n",
        "    \n",
        "    dFA = RA\n",
        "    dFB = RB\n",
        "    \n",
        "    return dFA, dFB\n",
        "    "
      ],
      "execution_count": 0,
      "outputs": []
    },
    {
      "metadata": {
        "id": "nfRaIZWXGSkK",
        "colab_type": "text"
      },
      "cell_type": "markdown",
      "source": [
        "## Définir les conditions initiales et bornes d'intégration"
      ]
    },
    {
      "metadata": {
        "id": "auOx3SfdMW4A",
        "colab_type": "code",
        "colab": {}
      },
      "cell_type": "code",
      "source": [
        "conditions_initiales = [FA0, FB0]\n",
        "\n",
        "V = np.arange(0, 150, 0.001)"
      ],
      "execution_count": 0,
      "outputs": []
    },
    {
      "metadata": {
        "id": "I1nvDwXeGUGH",
        "colab_type": "text"
      },
      "cell_type": "markdown",
      "source": [
        "## Résoudre le problème à l'aide du solveur"
      ]
    },
    {
      "metadata": {
        "id": "gemmcgT2Mq-C",
        "colab_type": "code",
        "colab": {}
      },
      "cell_type": "code",
      "source": [
        "resultats = solveur.odeint(\n",
        "    equations,\n",
        "    conditions_initiales,\n",
        "    V,\n",
        "    (Vdot, k)\n",
        ")"
      ],
      "execution_count": 0,
      "outputs": []
    },
    {
      "metadata": {
        "id": "-K2UnsdkNOak",
        "colab_type": "code",
        "colab": {}
      },
      "cell_type": "code",
      "source": [
        "CA = resultats[:,0] / Vdot\n",
        "CB = resultats[:,1] / Vdot\n",
        "\n",
        "X = 1 - CA / CA0"
      ],
      "execution_count": 0,
      "outputs": []
    },
    {
      "metadata": {
        "id": "PfHptNUWGZ1C",
        "colab_type": "text"
      },
      "cell_type": "markdown",
      "source": [
        "## Visualiser les résultats"
      ]
    },
    {
      "metadata": {
        "id": "qF9NLbvxNabS",
        "colab_type": "code",
        "colab": {
          "base_uri": "https://localhost:8080/",
          "height": 361
        },
        "outputId": "4be736fb-e23e-4771-98a0-edc875d757a0"
      },
      "cell_type": "code",
      "source": [
        "plt.figure(1)\n",
        "plt.plot(V, CA, V, CB)\n",
        "plt.xlabel('V (L)')\n",
        "plt.ylabel('Ci (mol/L)')\n",
        "plt.legend(['A', 'B'])\n",
        "plt.show()"
      ],
      "execution_count": 7,
      "outputs": [
        {
          "output_type": "display_data",
          "data": {
            "image/png": "[encoded data removed]",
            "text/plain": [
              "<matplotlib.figure.Figure at 0x7f7ee854ca58>"
            ]
          },
          "metadata": {
            "tags": []
          }
        }
      ]
    },
    {
      "metadata": {
        "id": "9fTun3g2NuaI",
        "colab_type": "code",
        "colab": {
          "base_uri": "https://localhost:8080/",
          "height": 35
        },
        "outputId": "632d97a0-6d41-4a74-9ddd-7ef11a411f0a"
      },
      "cell_type": "code",
      "source": [
        "V[X > 0.9][0]"
      ],
      "execution_count": 8,
      "outputs": [
        {
          "output_type": "execute_result",
          "data": {
            "text/plain": [
              "100.113"
            ]
          },
          "metadata": {
            "tags": []
          },
          "execution_count": 8
        }
      ]
    },
    {
      "metadata": {
        "id": "rex_qucmOq23",
        "colab_type": "code",
        "colab": {}
      },
      "cell_type": "code",
      "source": [
        ""
      ],
      "execution_count": 0,
      "outputs": []
    }
  ]
}