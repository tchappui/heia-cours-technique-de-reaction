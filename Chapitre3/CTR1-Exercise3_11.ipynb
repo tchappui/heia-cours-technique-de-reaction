{
  "nbformat": 4,
  "nbformat_minor": 0,
  "metadata": {
    "colab": {
      "name": "CTR1-Exercise3_11.ipynb",
      "version": "0.3.2",
      "provenance": [],
      "collapsed_sections": [],
      "include_colab_link": true
    },
    "kernelspec": {
      "name": "python3",
      "display_name": "Python 3"
    }
  },
  "cells": [
    {
      "cell_type": "markdown",
      "metadata": {
        "id": "view-in-github",
        "colab_type": "text"
      },
      "source": [
        "<a href=\"https://colab.research.google.com/github/tchappui/heia-cours-technique-de-reaction/blob/master/Chapitre3/CTR1-Exercise3_11.ipynb\" target=\"_parent\"><img src=\"https://colab.research.google.com/assets/colab-badge.svg\" alt=\"Open In Colab\"/></a>"
      ]
    },
    {
      "metadata": {
        "id": "sfeRgdGRjKgd",
        "colab_type": "text"
      },
      "cell_type": "markdown",
      "source": [
        "# CTR1- Exercice 3.11"
      ]
    },
    {
      "metadata": {
        "id": "EZ2XOAAera7F",
        "colab_type": "toc"
      },
      "cell_type": "markdown",
      "source": [
        ">[CTR1 Exercice 3.11](#scrollTo=sfeRgdGRjKgd)\n",
        "\n",
        ">>[Importer les bibliothèques](#scrollTo=RY5dtpZujZ6v)\n",
        "\n",
        ">>[Définir les constantes](#scrollTo=VU6WqUW6jfCi)\n",
        "\n",
        ">>[Bilans](#scrollTo=y_1FinyVkDLZ)\n",
        "\n",
        ">>[Solution pour un réacteur à membrane](#scrollTo=IGaVqRZ9o39_)\n",
        "\n",
        ">>>[Conditions initiales et domaine d'intégration](#scrollTo=2mKwJGdDqlqr)\n",
        "\n",
        ">>>[Appel au solveur](#scrollTo=TQlWI9Szqpk9)\n",
        "\n",
        ">>>[Post-processing pour calculer les concentrations](#scrollTo=8UiE9eT4qs4j)\n",
        "\n",
        ">>>[Visualisation](#scrollTo=8nD-4_8FqxwH)\n",
        "\n",
        ">>[Solution pour le réacteur PFR](#scrollTo=4ZniR1TGpBoP)\n",
        "\n",
        ">>>[Redefinition de quelques constantes](#scrollTo=NbGs4pRmq4sZ)\n",
        "\n",
        ">>>[Conditions initiales et domaine d'intégration](#scrollTo=YUzxgKg-rG4t)\n",
        "\n",
        ">>>[Appel au solveur](#scrollTo=pFXhC2SWrNOX)\n",
        "\n",
        ">>>[Post-processing pour calculer les concentrations](#scrollTo=ytEFxNPrrQFj)\n",
        "\n",
        ">>>[Visualisations](#scrollTo=qnw8l7b0rUai)\n",
        "\n"
      ]
    },
    {
      "metadata": {
        "id": "RY5dtpZujZ6v",
        "colab_type": "text"
      },
      "cell_type": "markdown",
      "source": [
        "## Importer les bibliothèques"
      ]
    },
    {
      "metadata": {
        "id": "5mxV4dwtjB1j",
        "colab_type": "code",
        "colab": {}
      },
      "cell_type": "code",
      "source": [
        "# vectors and linear algebra\n",
        "import numpy as np\n",
        "\n",
        "# visualization tools\n",
        "import matplotlib.pyplot as plt\n",
        "\n",
        "# solvers to integrate ordinary differential equations\n",
        "import scipy.integrate as solvers"
      ],
      "execution_count": 0,
      "outputs": []
    },
    {
      "metadata": {
        "id": "VU6WqUW6jfCi",
        "colab_type": "text"
      },
      "cell_type": "markdown",
      "source": [
        "## Définir les constantes"
      ]
    },
    {
      "metadata": {
        "id": "3uf_pX9ujOdQ",
        "colab_type": "code",
        "colab": {}
      },
      "cell_type": "code",
      "source": [
        "k1 = 2 # L2/mol2*s\n",
        "k2 = 3 # L2/mol2*s\n",
        "\n",
        "CT0 = 0.8 # mol/L\n",
        "Vtot = 50 # L\n",
        "FA0 = 4 # mol/s\n",
        "FB0 = 0 # mol/s\n",
        "FD0 = 0 # mol/s\n",
        "FU0 = 0 # mol/s\u0013\n",
        "\n",
        "FBM = 4 # mol/s\n",
        "RBM = FBM / Vtot # mol/L*s\n",
        "\n"
      ],
      "execution_count": 0,
      "outputs": []
    },
    {
      "metadata": {
        "id": "y_1FinyVkDLZ",
        "colab_type": "text"
      },
      "cell_type": "markdown",
      "source": [
        "## Bilans"
      ]
    },
    {
      "metadata": {
        "id": "VexXvzdxkGvN",
        "colab_type": "code",
        "colab": {}
      },
      "cell_type": "code",
      "source": [
        "def equations(variables, V, k1, k2, CT0, RBM):\n",
        "    FA, FB, FD, FU = variables\n",
        "    \n",
        "    Ftot = FA + FB + FD + FU\n",
        "\n",
        "    # Since p & T are constant, Ctot = p/RT = CT0 = constant\n",
        "    CA = CT0 * FA / Ftot\n",
        "    CB = CT0 * FB / Ftot\n",
        "    CD = CT0 * FD / Ftot\n",
        "    CU = CT0 * FU / Ftot\n",
        "\n",
        "    # Rates of reaction\n",
        "    r1 = k1 * CA**2 * CB\n",
        "    r2 = k2 * CA * CB**2\n",
        "\n",
        "    # Rates of transformation\n",
        "    RA = -r1 - r2\n",
        "    RB = -r1 - r2\n",
        "    RD = r1\n",
        "    RU = r2\n",
        "\n",
        "    # Material balances\n",
        "    dFA = RA\n",
        "    dFB = RB + RBM\n",
        "    dFD = RD\n",
        "    dFU = RU\n",
        "\n",
        "    return dFA, dFB, dFD, dFU"
      ],
      "execution_count": 0,
      "outputs": []
    },
    {
      "metadata": {
        "id": "IGaVqRZ9o39_",
        "colab_type": "text"
      },
      "cell_type": "markdown",
      "source": [
        "## Solution pour un réacteur à membrane"
      ]
    },
    {
      "metadata": {
        "id": "2mKwJGdDqlqr",
        "colab_type": "text"
      },
      "cell_type": "markdown",
      "source": [
        "### Conditions initiales et domaine d'intégration"
      ]
    },
    {
      "metadata": {
        "id": "Ife2odoTls34",
        "colab_type": "code",
        "colab": {}
      },
      "cell_type": "code",
      "source": [
        "initial_conditions = [FA0, FB0, FD0, FU0]"
      ],
      "execution_count": 0,
      "outputs": []
    },
    {
      "metadata": {
        "id": "T8WU-wbnjsCE",
        "colab_type": "code",
        "colab": {}
      },
      "cell_type": "code",
      "source": [
        "V = np.linspace(0, Vtot, 1000)"
      ],
      "execution_count": 0,
      "outputs": []
    },
    {
      "metadata": {
        "id": "TQlWI9Szqpk9",
        "colab_type": "text"
      },
      "cell_type": "markdown",
      "source": [
        "### Appel au solveur"
      ]
    },
    {
      "metadata": {
        "id": "lh-WYS4glm1l",
        "colab_type": "code",
        "colab": {}
      },
      "cell_type": "code",
      "source": [
        "results = solvers.odeint(\n",
        "    equations, \n",
        "    initial_conditions, \n",
        "    V, \n",
        "    (k1, k2, CT0, RBM)\n",
        ")"
      ],
      "execution_count": 0,
      "outputs": []
    },
    {
      "metadata": {
        "id": "8UiE9eT4qs4j",
        "colab_type": "text"
      },
      "cell_type": "markdown",
      "source": [
        "### Post-processing pour calculer les concentrations"
      ]
    },
    {
      "metadata": {
        "id": "OnbGpPfLnCRq",
        "colab_type": "code",
        "colab": {}
      },
      "cell_type": "code",
      "source": [
        "FA = results[:,0]\n",
        "FB = results[:,1]\n",
        "FD = results[:,2]\n",
        "FU = results[:,3]\n",
        "\n",
        "Ftot = FA + FB + FD + FU\n",
        "\n",
        "CA = CT0 * FA / Ftot\n",
        "CB = CT0 * FB / Ftot\n",
        "CD = CT0 * FD / Ftot\n",
        "CU = CT0 * FU / Ftot"
      ],
      "execution_count": 0,
      "outputs": []
    },
    {
      "metadata": {
        "id": "8nD-4_8FqxwH",
        "colab_type": "text"
      },
      "cell_type": "markdown",
      "source": [
        "### Visualisation"
      ]
    },
    {
      "metadata": {
        "id": "YwWy7mummU-C",
        "colab_type": "code",
        "outputId": "07514a5f-bf41-49d7-dbf7-4ac268299672",
        "colab": {
          "base_uri": "https://localhost:8080/",
          "height": 361
        }
      },
      "cell_type": "code",
      "source": [
        "plt.plot(V, CA, V, CB, V, CD, V, CU)\n",
        "plt.xlabel('V (L)')\n",
        "plt.ylabel('$C_{i}$ (mol/L)')\n",
        "plt.legend(['A', 'B', 'D', 'U'])\n",
        "plt.show()"
      ],
      "execution_count": 8,
      "outputs": [
        {
          "output_type": "display_data",
          "data": {
            "image/png": "[encoded data removed]",
            "text/plain": [
              "<matplotlib.figure.Figure at 0x7fc14f6f07f0>"
            ]
          },
          "metadata": {
            "tags": []
          }
        }
      ]
    },
    {
      "metadata": {
        "id": "KLAM3k6Inm21",
        "colab_type": "code",
        "colab": {}
      },
      "cell_type": "code",
      "source": [
        "S_DU_MR = FD[FU > 0] / FU[FU > 0]"
      ],
      "execution_count": 0,
      "outputs": []
    },
    {
      "metadata": {
        "id": "nsgsFlJnoO1C",
        "colab_type": "code",
        "outputId": "89a15dd0-7669-4c5f-d387-dde4a5ab5b85",
        "colab": {
          "base_uri": "https://localhost:8080/",
          "height": 361
        }
      },
      "cell_type": "code",
      "source": [
        "plt.plot(V[FU > 0], S_DU_MR)\n",
        "plt.xlabel('V (L)')\n",
        "plt.ylabel('$S_{DU}$ (-)')\n",
        "plt.show()"
      ],
      "execution_count": 10,
      "outputs": [
        {
          "output_type": "display_data",
          "data": {
            "image/png": "[encoded data removed]",
            "text/plain": [
              "<matplotlib.figure.Figure at 0x7fc14f6f06a0>"
            ]
          },
          "metadata": {
            "tags": []
          }
        }
      ]
    },
    {
      "metadata": {
        "id": "4ZniR1TGpBoP",
        "colab_type": "text"
      },
      "cell_type": "markdown",
      "source": [
        "## Solution pour le réacteur PFR"
      ]
    },
    {
      "metadata": {
        "id": "NbGs4pRmq4sZ",
        "colab_type": "text"
      },
      "cell_type": "markdown",
      "source": [
        "### Redefinition de quelques constantes"
      ]
    },
    {
      "metadata": {
        "id": "8HkwWTiZq88R",
        "colab_type": "code",
        "colab": {}
      },
      "cell_type": "code",
      "source": [
        "FA0 = 4 # mol/s\n",
        "FB0 = 4 # mol/s\n",
        "FD0 = 0 # mol/s\n",
        "FU0 = 0 # mol/s\u0013\n",
        "RBM = 0 # mol/L*s No feed any more through the side of the tube"
      ],
      "execution_count": 0,
      "outputs": []
    },
    {
      "metadata": {
        "id": "YUzxgKg-rG4t",
        "colab_type": "text"
      },
      "cell_type": "markdown",
      "source": [
        "### Conditions initiales et domaine d'intégration"
      ]
    },
    {
      "metadata": {
        "id": "IcckJxuYorim",
        "colab_type": "code",
        "colab": {}
      },
      "cell_type": "code",
      "source": [
        "initial_conditions = [FA0, FB0, FD0, FU0]"
      ],
      "execution_count": 0,
      "outputs": []
    },
    {
      "metadata": {
        "id": "OTLYYhoKpdQJ",
        "colab_type": "code",
        "colab": {}
      },
      "cell_type": "code",
      "source": [
        "V = np.linspace(0, Vtot, 1000)"
      ],
      "execution_count": 0,
      "outputs": []
    },
    {
      "metadata": {
        "id": "pFXhC2SWrNOX",
        "colab_type": "text"
      },
      "cell_type": "markdown",
      "source": [
        "### Appel au solveur"
      ]
    },
    {
      "metadata": {
        "id": "Q6MLASNApggN",
        "colab_type": "code",
        "colab": {}
      },
      "cell_type": "code",
      "source": [
        "results = solvers.odeint(\n",
        "    equations, \n",
        "    initial_conditions, \n",
        "    V, \n",
        "    (k1, k2, CT0, RBM)\n",
        ")"
      ],
      "execution_count": 0,
      "outputs": []
    },
    {
      "metadata": {
        "id": "ytEFxNPrrQFj",
        "colab_type": "text"
      },
      "cell_type": "markdown",
      "source": [
        "### Post-processing pour calculer les concentrations"
      ]
    },
    {
      "metadata": {
        "id": "tEywDJbppjKo",
        "colab_type": "code",
        "colab": {}
      },
      "cell_type": "code",
      "source": [
        "FA = results[:,0]\n",
        "FB = results[:,1]\n",
        "FD = results[:,2]\n",
        "FU = results[:,3]\n",
        "\n",
        "Ftot = FA + FB + FD + FU\n",
        "\n",
        "CA = CT0 * FA / Ftot\n",
        "CB = CT0 * FB / Ftot\n",
        "CD = CT0 * FD / Ftot\n",
        "CU = CT0 * FU / Ftot"
      ],
      "execution_count": 0,
      "outputs": []
    },
    {
      "metadata": {
        "id": "qnw8l7b0rUai",
        "colab_type": "text"
      },
      "cell_type": "markdown",
      "source": [
        "### Visualisations"
      ]
    },
    {
      "metadata": {
        "id": "NxBQu3qjptjG",
        "colab_type": "code",
        "outputId": "6b1be04e-b016-41b9-9d67-e79ef0683f27",
        "colab": {
          "base_uri": "https://localhost:8080/",
          "height": 361
        }
      },
      "cell_type": "code",
      "source": [
        "plt.plot(V, CA, V, CB, V, CD, V, CU)\n",
        "plt.xlabel('V (L)')\n",
        "plt.ylabel('$C_{i}$ (mol/L)')\n",
        "plt.legend(['A', 'B', 'D', 'U'])\n",
        "plt.show()"
      ],
      "execution_count": 16,
      "outputs": [
        {
          "output_type": "display_data",
          "data": {
            "image/png": "[encoded data removed]",
            "text/plain": [
              "<matplotlib.figure.Figure at 0x7fc14c8da978>"
            ]
          },
          "metadata": {
            "tags": []
          }
        }
      ]
    },
    {
      "metadata": {
        "id": "KkQutplPpyTW",
        "colab_type": "code",
        "colab": {}
      },
      "cell_type": "code",
      "source": [
        "S_DU_PFR = FD[FU > 0] / FU[FU > 0]\n",
        "V2 = V[FU > 0]"
      ],
      "execution_count": 0,
      "outputs": []
    },
    {
      "metadata": {
        "id": "Z1OIZ9i0p93M",
        "colab_type": "code",
        "outputId": "7bdbfb34-84fd-4181-a209-633c242c452d",
        "colab": {
          "base_uri": "https://localhost:8080/",
          "height": 361
        }
      },
      "cell_type": "code",
      "source": [
        "plt.plot(V2[V2 > 0.4], S_DU_PFR[V2 > 0.4], V2[V2 > 0.4], S_DU_MR[V2 > 0.4])\n",
        "plt.xlabel('V (L)')\n",
        "plt.ylabel('$S_{DU}$ (-)')\n",
        "plt.legend(['PFR', 'MR'])\n",
        "plt.show()"
      ],
      "execution_count": 18,
      "outputs": [
        {
          "output_type": "display_data",
          "data": {
            "image/png": "[encoded data removed]",
            "text/plain": [
              "<matplotlib.figure.Figure at 0x7fc14c8120f0>"
            ]
          },
          "metadata": {
            "tags": []
          }
        }
      ]
    },
    {
      "metadata": {
        "id": "5O-UhP25g4ha",
        "colab_type": "code",
        "colab": {}
      },
      "cell_type": "code",
      "source": [
        ""
      ],
      "execution_count": 0,
      "outputs": []
    }
  ]
}