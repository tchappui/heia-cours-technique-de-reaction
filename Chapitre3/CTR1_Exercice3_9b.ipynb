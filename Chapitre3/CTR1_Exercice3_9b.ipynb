{
  "nbformat": 4,
  "nbformat_minor": 0,
  "metadata": {
    "colab": {
      "name": "CTR1-Exercice3.9b.ipynb",
      "version": "0.3.2",
      "provenance": [],
      "collapsed_sections": [],
      "include_colab_link": true
    },
    "kernelspec": {
      "name": "python3",
      "display_name": "Python 3"
    }
  },
  "cells": [
    {
      "cell_type": "markdown",
      "metadata": {
        "id": "view-in-github",
        "colab_type": "text"
      },
      "source": [
        "<a href=\"https://colab.research.google.com/github/tchappui/heia-cours-technique-de-reaction/blob/master/Chapitre3/CTR1_Exercice3_9b.ipynb\" target=\"_parent\"><img src=\"https://colab.research.google.com/assets/colab-badge.svg\" alt=\"Open In Colab\"/></a>"
      ]
    },
    {
      "metadata": {
        "id": "r80fs_UKpiBV",
        "colab_type": "text"
      },
      "cell_type": "markdown",
      "source": [
        "# Exercice 3.9b\n",
        "\n",
        "## Résolution avec 5 équations différentielles\n",
        "\n",
        "On desire résoudre les équations différentielles ci-dessous pour t = 5000 s avec Python:\n",
        "\n",
        "$r_{1}=k_{1}\\cdot C_{A}C_{B}$<br>\n",
        "$r_{2}=\\frac{k_{1}}{K_{c}}\\cdot C_{C}C_{D}$<br>\n",
        "\n",
        "$\\frac{dN_{A}}{dt}=R_{A}\\cdot V$<br>\n",
        "$\\frac{dN_{B}}{dt}=R_{B}\\cdot V + \\dot{V}C_{B,D}$<br>\n",
        "$\\frac{dN_{C}}{dt}=R_{C}\\cdot V$<br>\n",
        "$\\frac{dN_{D}}{dt}=R_{D}\\cdot V$<br>\n",
        "$\\frac{V}{dt}=\\dot{V}$<br>\n",
        "\n",
        "Avec<br>\n",
        "\n",
        "- $k_{1}$ = 9.0·10<sup>-5</sup>\n",
        "- $K_{c}$ = 1.08\n",
        "- $\\dot{V}$ = 0.05 L/s pour t $\\leq$ 4000 ou 0 sinon\n",
        "\n",
        "Les conditions initiales sont:\n",
        "\n",
        "- N<sub>A0</sub> = 7.72⋅200 = 1544 mol\n",
        "- N<sub>B0</sub> = 0 mol\n",
        "- N<sub>C0</sub> = 0 mol\n",
        "- N<sub>D0</sub> = 0 mol\n",
        "- V<sub>0</sub> = 200 L"
      ]
    },
    {
      "metadata": {
        "id": "TTNxl6BDqXUv",
        "colab_type": "text"
      },
      "cell_type": "markdown",
      "source": [
        "## Importer les outils\n",
        "\n",
        "On commence par importer les bibliothèques nécessaire pour résoudre le problème avec python. Il vient:"
      ]
    },
    {
      "metadata": {
        "id": "RGaXUbPlquAX",
        "colab_type": "code",
        "colab": {}
      },
      "cell_type": "code",
      "source": [
        "# vecteurs et algèbre linéaire\n",
        "import numpy as np\n",
        "\n",
        "# les outils pour visualiser\n",
        "import matplotlib.pyplot as plt\n",
        "\n",
        "# le solveur\n",
        "import scipy.integrate as solveur\n"
      ],
      "execution_count": 0,
      "outputs": []
    },
    {
      "metadata": {
        "id": "cS3aZXHgqD2C",
        "colab_type": "text"
      },
      "cell_type": "markdown",
      "source": [
        "## Définir les constantes du problème\n",
        "\n",
        "On commence à aborder le problème en définissant les constantes sur lesquelles se basent le problème."
      ]
    },
    {
      "metadata": {
        "id": "bKd0VDZTsr13",
        "colab_type": "code",
        "colab": {}
      },
      "cell_type": "code",
      "source": [
        "k1 = 9e-5 # L/mol\n",
        "Kc = 1.08 # -\n",
        "Vdot = 0.05 # L/s\n",
        "V0 = 200 # L\n",
        "CA0 = 7.72 # mol/L\n",
        "CB0 = 0 # mol/L\n",
        "CC0 = 0 # mol/L\n",
        "CD0 = 0 # mol/L\n",
        "t_dosage = 4000 # s\n",
        "CBD = 10.93 # mol/L"
      ],
      "execution_count": 0,
      "outputs": []
    },
    {
      "metadata": {
        "id": "bkog40-fqKeP",
        "colab_type": "text"
      },
      "cell_type": "markdown",
      "source": [
        "## Définir les équations à résoudre\n",
        "\n",
        "Les équations à résoudre sont définies dans une fonction prenant en paramètres les variables dépendantes (premier paramètre), la variable indépendante, et les différentes constantes utilisées par les équations."
      ]
    },
    {
      "metadata": {
        "id": "-jvPApNgtSsU",
        "colab_type": "code",
        "colab": {}
      },
      "cell_type": "code",
      "source": [
        "def equations(variables, t, V0, Vdot, k1, Kc, CBD, t_dosage):\n",
        "    \"\"\"Fonction représentant les équations à résoudre.\"\"\"\n",
        "    NA, NB, NC, ND, V = variables\n",
        "    \n",
        "    # SI t est supérieur au temps de dosage, on ne dose plus\n",
        "    if t > t_dosage:\n",
        "        Vdot = 0\n",
        "        \n",
        "    CA = NA/V\n",
        "    CB = NB/V\n",
        "    CC = NC/V\n",
        "    CD = ND/V\n",
        "    \n",
        "    r1 = k1 * CA * CB\n",
        "    r2 = k1/Kc * CC * CD\n",
        "    \n",
        "    RA = -r1 + r2\n",
        "    RB = -r1 + r2\n",
        "    RC = r1 - r2\n",
        "    RD = r1 - r2\n",
        "    \n",
        "    dNAdt = RA * V\n",
        "    dNBdt = RB * V + Vdot * CBD\n",
        "    dNCdt = RC * V\n",
        "    dNDdt = RD * V\n",
        "    dVdt = Vdot\n",
        "    \n",
        "    return dNAdt, dNBdt, dNCdt, dNDdt, dVdt"
      ],
      "execution_count": 0,
      "outputs": []
    },
    {
      "metadata": {
        "id": "9Zw-iTDSqPi1",
        "colab_type": "text"
      },
      "cell_type": "markdown",
      "source": [
        "## Définir les conditions initiales\n",
        "\n",
        "Afin de résoudre ce type d'équations différentielles ordinaires, nous devons définir les conditions initiales du problème."
      ]
    },
    {
      "metadata": {
        "id": "rCSuW6FNu5Ge",
        "colab_type": "code",
        "colab": {}
      },
      "cell_type": "code",
      "source": [
        "conditions_initiales = [V0 * CA0, V0 * CB0, V0 * CC0, V0 * CD0, V0]"
      ],
      "execution_count": 0,
      "outputs": []
    },
    {
      "metadata": {
        "id": "meRe51WnqiDB",
        "colab_type": "text"
      },
      "cell_type": "markdown",
      "source": [
        "## Résoudre le problème à l'aide du solveur\n",
        "\n"
      ]
    },
    {
      "metadata": {
        "id": "1LY5EI7KvFqQ",
        "colab_type": "code",
        "colab": {}
      },
      "cell_type": "code",
      "source": [
        "t = np.linspace(0, 5000, 10001) \n",
        "\n",
        "\n",
        "resultats = solveur.odeint(\n",
        "    equations, \n",
        "    conditions_initiales, \n",
        "    t, \n",
        "    (V0, Vdot, k1, Kc, CBD, t_dosage)\n",
        ")"
      ],
      "execution_count": 0,
      "outputs": []
    },
    {
      "metadata": {
        "id": "VxLj4LcmeTB3",
        "colab_type": "text"
      },
      "cell_type": "markdown",
      "source": [
        "On va récupérer les vecteurs associés à chaque variable de manière à pouvoir éventuellement les afficher séparemment."
      ]
    },
    {
      "metadata": {
        "id": "UCi8ESAXahIE",
        "colab_type": "code",
        "colab": {}
      },
      "cell_type": "code",
      "source": [
        "NA = resultats[:,0]\n",
        "NB = resultats[:,1]\n",
        "NC = resultats[:,2]\n",
        "ND = resultats[:,3]\n",
        "V = resultats[:,4]\n",
        "\n",
        "CA = NA/V\n",
        "CB = NB/V\n",
        "CC = NC/V\n",
        "CD = ND/V"
      ],
      "execution_count": 0,
      "outputs": []
    },
    {
      "metadata": {
        "id": "MG3jzyMFqokZ",
        "colab_type": "text"
      },
      "cell_type": "markdown",
      "source": [
        "## Visualiser les résultats\n",
        "\n",
        "Les valeurs de V n'évoluent pas sur la même échelle que celles de CA, CB, CC et CD. On décide de les visualiser sur des graphiques différents.\n"
      ]
    },
    {
      "metadata": {
        "id": "t61vp4dhwVN6",
        "colab_type": "code",
        "outputId": "1faffcc2-7f8a-4018-92e6-219889cc226d",
        "colab": {
          "base_uri": "https://localhost:8080/",
          "height": 361
        }
      },
      "cell_type": "code",
      "source": [
        "plt.figure(1)\n",
        "plt.plot(t, CA, t, CB, t, CC, t, CD)\n",
        "\n",
        "plt.xlabel('t')\n",
        "plt.ylabel('$C_{i}$')\n",
        "plt.legend(['A','B','C','D'])\n",
        "plt.show()"
      ],
      "execution_count": 7,
      "outputs": [
        {
          "output_type": "display_data",
          "data": {
            "image/png": "[encoded data removed]",
            "text/plain": [
              "<matplotlib.figure.Figure at 0x7f1cff9c61d0>"
            ]
          },
          "metadata": {
            "tags": []
          }
        }
      ]
    },
    {
      "metadata": {
        "id": "w6stAMCIa_9y",
        "colab_type": "code",
        "outputId": "5538cc72-97fd-41a6-9646-13a2e6d8e8e1",
        "colab": {
          "base_uri": "https://localhost:8080/",
          "height": 361
        }
      },
      "cell_type": "code",
      "source": [
        "plt.figure(2)\n",
        "plt.plot(t, V)\n",
        "plt.xlabel('t (s)')\n",
        "plt.ylabel('V (L)')\n",
        "plt.show()"
      ],
      "execution_count": 8,
      "outputs": [
        {
          "output_type": "display_data",
          "data": {
            "image/png": "[encoded data removed]",
            "text/plain": [
              "<matplotlib.figure.Figure at 0x7f1cff9c6898>"
            ]
          },
          "metadata": {
            "tags": []
          }
        }
      ]
    },
    {
      "metadata": {
        "id": "-u-_Owmtl2hA",
        "colab_type": "code",
        "colab": {}
      },
      "cell_type": "code",
      "source": [
        ""
      ],
      "execution_count": 0,
      "outputs": []
    }
  ]
}