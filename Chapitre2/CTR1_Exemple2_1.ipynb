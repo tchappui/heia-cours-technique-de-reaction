{
  "nbformat": 4,
  "nbformat_minor": 0,
  "metadata": {
    "colab": {
      "name": "CTR1_Exemple2.1.ipynb",
      "version": "0.3.2",
      "provenance": [],
      "include_colab_link": true
    },
    "kernelspec": {
      "name": "python3",
      "display_name": "Python 3"
    }
  },
  "cells": [
    {
      "cell_type": "markdown",
      "metadata": {
        "id": "view-in-github",
        "colab_type": "text"
      },
      "source": [
        "[View in Colaboratory](https://colab.research.google.com/github/tchappui/heia-cours-technique-de-reaction/blob/master/Chapitre2/CTR1_Exemple2_1.ipynb)"
      ]
    },
    {
      "metadata": {
        "id": "r80fs_UKpiBV",
        "colab_type": "text"
      },
      "cell_type": "markdown",
      "source": [
        "# Exemple 2.1"
      ]
    },
    {
      "metadata": {
        "id": "TTNxl6BDqXUv",
        "colab_type": "text"
      },
      "cell_type": "markdown",
      "source": [
        "## Importer les outils"
      ]
    },
    {
      "metadata": {
        "id": "RGaXUbPlquAX",
        "colab_type": "code",
        "colab": {}
      },
      "cell_type": "code",
      "source": [
        "# vecteurs et algèbre linéaire\n",
        "import numpy as np\n",
        "\n",
        "# les outils pour visualiser\n",
        "import matplotlib.pyplot as plt\n",
        "\n",
        "# le solveur\n",
        "import scipy.integrate as solveur\n"
      ],
      "execution_count": 0,
      "outputs": []
    },
    {
      "metadata": {
        "id": "cS3aZXHgqD2C",
        "colab_type": "text"
      },
      "cell_type": "markdown",
      "source": [
        "## Définir les constantes du problème"
      ]
    },
    {
      "metadata": {
        "id": "bKd0VDZTsr13",
        "colab_type": "code",
        "colab": {}
      },
      "cell_type": "code",
      "source": [
        "y0 = 1 # unité de ma constante"
      ],
      "execution_count": 0,
      "outputs": []
    },
    {
      "metadata": {
        "id": "bkog40-fqKeP",
        "colab_type": "text"
      },
      "cell_type": "markdown",
      "source": [
        "## Définir les équations à résoudre"
      ]
    },
    {
      "metadata": {
        "id": "-jvPApNgtSsU",
        "colab_type": "code",
        "colab": {}
      },
      "cell_type": "code",
      "source": [
        "def equations(y, t):\n",
        "    dydt = y * (2 - t) * t + t -1\n",
        "    return dydt"
      ],
      "execution_count": 0,
      "outputs": []
    },
    {
      "metadata": {
        "id": "9Zw-iTDSqPi1",
        "colab_type": "text"
      },
      "cell_type": "markdown",
      "source": [
        "## Définir les conditions initiales"
      ]
    },
    {
      "metadata": {
        "id": "rCSuW6FNu5Ge",
        "colab_type": "code",
        "colab": {}
      },
      "cell_type": "code",
      "source": [
        "conditions_initiales = [y0]"
      ],
      "execution_count": 0,
      "outputs": []
    },
    {
      "metadata": {
        "id": "meRe51WnqiDB",
        "colab_type": "text"
      },
      "cell_type": "markdown",
      "source": [
        "## Résoudre le problème à l'aide du solveur"
      ]
    },
    {
      "metadata": {
        "id": "1LY5EI7KvFqQ",
        "colab_type": "code",
        "colab": {}
      },
      "cell_type": "code",
      "source": [
        "t = np.linspace(0, 20, 100) # définir les bornes d'intégration\n",
        "resultats = solveur.odeint(equations, conditions_initiales, t)"
      ],
      "execution_count": 0,
      "outputs": []
    },
    {
      "metadata": {
        "id": "MG3jzyMFqokZ",
        "colab_type": "text"
      },
      "cell_type": "markdown",
      "source": [
        "## Visualiser les résultats"
      ]
    },
    {
      "metadata": {
        "id": "t61vp4dhwVN6",
        "colab_type": "code",
        "colab": {
          "base_uri": "https://localhost:8080/",
          "height": 361
        },
        "outputId": "2153c281-9762-4991-e85b-72c48bd64d23"
      },
      "cell_type": "code",
      "source": [
        "plt.plot(t, resultats)\n",
        "plt.xlabel('t')\n",
        "plt.ylabel('y')\n",
        "plt.show()"
      ],
      "execution_count": 6,
      "outputs": [
        {
          "output_type": "display_data",
          "data": {
            "image/png": "[encoded data removed]",
            "text/plain": [
              "<matplotlib.figure.Figure at 0x7f96469fc3c8>"
            ]
          },
          "metadata": {
            "tags": []
          }
        }
      ]
    }
  ]
}