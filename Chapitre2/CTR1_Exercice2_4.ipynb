{
  "nbformat": 4,
  "nbformat_minor": 0,
  "metadata": {
    "colab": {
      "name": "CTR1-Exercice2.4.ipynb",
      "version": "0.3.2",
      "provenance": [],
      "collapsed_sections": [],
      "include_colab_link": true
    },
    "kernelspec": {
      "name": "python3",
      "display_name": "Python 3"
    }
  },
  "cells": [
    {
      "cell_type": "markdown",
      "metadata": {
        "id": "view-in-github",
        "colab_type": "text"
      },
      "source": [
        "[View in Colaboratory](https://colab.research.google.com/github/tchappui/heia-cours-technique-de-reaction/blob/master/Chapitre2/CTR1_Exercice2_4.ipynb)"
      ]
    },
    {
      "metadata": {
        "id": "r80fs_UKpiBV",
        "colab_type": "text"
      },
      "cell_type": "markdown",
      "source": [
        "# Exercice 2.4\n",
        "\n",
        "On desire résoudre les deux équations différentielles ci-dessous pour t = 5000 s avec Python:\n",
        "\n",
        "$r=A\\cdot ux - B\\cdot yz$<br>\n",
        "$\\frac{du}{dt}=-r-\\frac{D}{v}\\cdot u$<br>\n",
        "$\\frac{dv}{dt}=D$<br>\n",
        "$\\frac{dx}{dt}=-r+\\frac{D}{v}\\cdot (10.93-x)$<br>\n",
        "$\\frac{dy}{dt}=r-\\frac{D}{v}\\cdot y$<br>\n",
        "$\\frac{dz}{dt}=r-\\frac{D}{v}\\cdot z$<br>\n",
        "\n",
        "Avec<br>\n",
        "\n",
        "- A = 9.0·10<sup>-5</sup>\n",
        "- B = 8.33·10<sup>-5</sup>\n",
        "- D = 0.05 pour t $\\leq$ 4000 ou 0 sinon\n",
        "\n",
        "Les conditions initiales sont:\n",
        "\n",
        "- u<sub>0</sub> = 7.72\n",
        "- v<sub>0</sub> = 200\n",
        "- x<sub>0</sub> = 0\n",
        "- y<sub>0</sub> = 0\n",
        "- z<sub>0</sub> = 0"
      ]
    },
    {
      "metadata": {
        "id": "TTNxl6BDqXUv",
        "colab_type": "text"
      },
      "cell_type": "markdown",
      "source": [
        "## Importer les outils\n",
        "\n",
        "On commence par importer les bibliothèques nécessaire pour résoudre le problème avec python. Il vient:"
      ]
    },
    {
      "metadata": {
        "id": "RGaXUbPlquAX",
        "colab_type": "code",
        "colab": {}
      },
      "cell_type": "code",
      "source": [
        "# vecteurs et algèbre linéaire\n",
        "import numpy as np\n",
        "\n",
        "# les outils pour visualiser\n",
        "import matplotlib.pyplot as plt\n",
        "\n",
        "# le solveur\n",
        "import scipy.integrate as solveur\n"
      ],
      "execution_count": 0,
      "outputs": []
    },
    {
      "metadata": {
        "id": "cS3aZXHgqD2C",
        "colab_type": "text"
      },
      "cell_type": "markdown",
      "source": [
        "## Définir les constantes du problème\n",
        "\n",
        "On commence à aborder le problème en définissant les constantes sur lesquelles se basent le problème."
      ]
    },
    {
      "metadata": {
        "id": "bKd0VDZTsr13",
        "colab_type": "code",
        "colab": {}
      },
      "cell_type": "code",
      "source": [
        "A = 9e-5\n",
        "B = 8.33e-5\n",
        "D = 0.05\n",
        "u0 = 7.72\n",
        "v0 = 200\n",
        "x0 = 0\n",
        "y0 = 0\n",
        "z0 = 0\n",
        "t_dosage = 4000"
      ],
      "execution_count": 0,
      "outputs": []
    },
    {
      "metadata": {
        "id": "bkog40-fqKeP",
        "colab_type": "text"
      },
      "cell_type": "markdown",
      "source": [
        "## Définir les équations à résoudre\n",
        "\n",
        "Les équations à résoudre sont définies dans une fonction prenant en paramètres les variables dépendantes (premier paramètre), la variable indépendante, et les différentes constantes utilisées par les équations."
      ]
    },
    {
      "metadata": {
        "id": "-jvPApNgtSsU",
        "colab_type": "code",
        "colab": {}
      },
      "cell_type": "code",
      "source": [
        "def equations(variables, t, A, B, D, t_dosage):\n",
        "    \"\"\"Fonction représentant les équations à résoudre.\"\"\"\n",
        "    u, v, x, y, z = variables\n",
        "    r = A * u * x - B * y * z\n",
        "    \n",
        "    # SI t est supérieur au temps de dosage\n",
        "    if t > t_dosage:\n",
        "        D = 0\n",
        "    \n",
        "    dudt = -r - D/v * u\n",
        "    dvdt = D\n",
        "    dxdt = -r + D/v * (10.93 - x)\n",
        "    dydt =  r - D/v * y\n",
        "    dzdt = r - D/v * z\n",
        "    return dudt, dvdt, dxdt, dydt, dzdt"
      ],
      "execution_count": 0,
      "outputs": []
    },
    {
      "metadata": {
        "id": "9Zw-iTDSqPi1",
        "colab_type": "text"
      },
      "cell_type": "markdown",
      "source": [
        "## Définir les conditions initiales\n",
        "\n",
        "Afin de résoudre ce type d'équations différentielles ordinaires, nous devons définir les conditions initiales du problème."
      ]
    },
    {
      "metadata": {
        "id": "rCSuW6FNu5Ge",
        "colab_type": "code",
        "colab": {}
      },
      "cell_type": "code",
      "source": [
        "conditions_initiales = [u0, v0, x0, y0, z0]"
      ],
      "execution_count": 0,
      "outputs": []
    },
    {
      "metadata": {
        "id": "meRe51WnqiDB",
        "colab_type": "text"
      },
      "cell_type": "markdown",
      "source": [
        "## Résoudre le problème à l'aide du solveur\n",
        "\n"
      ]
    },
    {
      "metadata": {
        "id": "1LY5EI7KvFqQ",
        "colab_type": "code",
        "colab": {}
      },
      "cell_type": "code",
      "source": [
        "t = np.linspace(0, 5000, 10001) # définir les bornes d'intégration\n",
        "\n",
        "# résolution du problème avec le solveur\n",
        "resultats = solveur.odeint(\n",
        "    equations, # 1er paramètre: la fonction contenant les équations à résoudre\n",
        "    conditions_initiales, # 2e param: les conditions initiales\n",
        "    t, # 3e param: les bornes d'intégration\n",
        "    (A, B, D, t_dosage) # 4e param (optionnel): les constantes utilisées par les équations\n",
        ")"
      ],
      "execution_count": 0,
      "outputs": []
    },
    {
      "metadata": {
        "id": "VxLj4LcmeTB3",
        "colab_type": "text"
      },
      "cell_type": "markdown",
      "source": [
        "On va récupérer les vecteurs associés à chaque variable de manière à pouvoir éventuellement les afficher séparemment."
      ]
    },
    {
      "metadata": {
        "id": "UCi8ESAXahIE",
        "colab_type": "code",
        "colab": {}
      },
      "cell_type": "code",
      "source": [
        "u = resultats[:,0]\n",
        "v = resultats[:,1]\n",
        "x = resultats[:,2]\n",
        "y = resultats[:,3]\n",
        "z = resultats[:,4]"
      ],
      "execution_count": 0,
      "outputs": []
    },
    {
      "metadata": {
        "id": "MG3jzyMFqokZ",
        "colab_type": "text"
      },
      "cell_type": "markdown",
      "source": [
        "## Visualiser les résultats\n",
        "\n",
        "Les valeurs de v n'évoluent pas sur la même échelle que celles de u, x, y et z. On décide de les visualiser sur des graphiques différents.\n"
      ]
    },
    {
      "metadata": {
        "id": "t61vp4dhwVN6",
        "colab_type": "code",
        "colab": {
          "base_uri": "https://localhost:8080/",
          "height": 361
        },
        "outputId": "29d2071c-ac39-41b7-ac9b-8ddb73672be3"
      },
      "cell_type": "code",
      "source": [
        "plt.figure(1)\n",
        "plt.plot(t, u, t, x, t, y, t, z)\n",
        "plt.xlabel('t')\n",
        "plt.ylabel('u, x, y, z')\n",
        "plt.legend(['u','x','y','z'])\n",
        "plt.show()"
      ],
      "execution_count": 7,
      "outputs": [
        {
          "output_type": "display_data",
          "data": {
            "image/png": "[encoded data removed]",
            "text/plain": [
              "<matplotlib.figure.Figure at 0x7f6dfaae1278>"
            ]
          },
          "metadata": {
            "tags": []
          }
        }
      ]
    },
    {
      "metadata": {
        "id": "w6stAMCIa_9y",
        "colab_type": "code",
        "colab": {
          "base_uri": "https://localhost:8080/",
          "height": 361
        },
        "outputId": "4bb6cae6-a471-461a-f9ab-66e15389c5ed"
      },
      "cell_type": "code",
      "source": [
        "plt.figure(2)\n",
        "plt.plot(t, v)\n",
        "plt.xlabel('t')\n",
        "plt.ylabel('v')\n",
        "plt.show()"
      ],
      "execution_count": 8,
      "outputs": [
        {
          "output_type": "display_data",
          "data": {
            "image/png": "[encoded data removed]",
            "text/plain": [
              "<matplotlib.figure.Figure at 0x7f6dfa22d438>"
            ]
          },
          "metadata": {
            "tags": []
          }
        }
      ]
    }
  ]
}