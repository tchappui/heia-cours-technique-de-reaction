{
  "nbformat": 4,
  "nbformat_minor": 0,
  "metadata": {
    "colab": {
      "name": "CTR1-Exercice3.8-version-levenspiel.ipynb",
      "version": "0.3.2",
      "provenance": [],
      "collapsed_sections": [],
      "include_colab_link": true
    },
    "kernelspec": {
      "name": "python3",
      "display_name": "Python 3"
    }
  },
  "cells": [
    {
      "cell_type": "markdown",
      "metadata": {
        "id": "view-in-github",
        "colab_type": "text"
      },
      "source": [
        "<a href=\"https://colab.research.google.com/github/tchappui/heia-cours-technique-de-reaction/blob/master/Chapitre4/CTR1_Exercice3_8_version_levenspiel.ipynb\" target=\"_parent\"><img src=\"https://colab.research.google.com/assets/colab-badge.svg\" alt=\"Open In Colab\"/></a>"
      ]
    },
    {
      "metadata": {
        "id": "ni8kr5ZUF1_p",
        "colab_type": "text"
      },
      "cell_type": "markdown",
      "source": [
        "# Exercice 3.8"
      ]
    },
    {
      "metadata": {
        "id": "yBQT4trxGEvD",
        "colab_type": "text"
      },
      "cell_type": "markdown",
      "source": [
        "## Importer les outils"
      ]
    },
    {
      "metadata": {
        "id": "FYdKLLL5FwFK",
        "colab_type": "code",
        "colab": {}
      },
      "cell_type": "code",
      "source": [
        "# vecteurs et algèbre linéaire\n",
        "import numpy as np\n",
        "\n",
        "# les outils pour visualiser\n",
        "import matplotlib.pyplot as plt\n",
        "\n",
        "# l'intégrateur\n",
        "from scipy.integrate import quad"
      ],
      "execution_count": 0,
      "outputs": []
    },
    {
      "metadata": {
        "id": "P_d-xLGqGLhU",
        "colab_type": "text"
      },
      "cell_type": "markdown",
      "source": [
        "## Définir les constantes du problème"
      ]
    },
    {
      "metadata": {
        "id": "ZMZAonikF4WD",
        "colab_type": "code",
        "colab": {}
      },
      "cell_type": "code",
      "source": [
        "k = 10 # L2/mol2/s\n",
        "Vdot = 4 # mol/s\n",
        "\n",
        "R = 0.082057338 # L*atm/K/mol\n",
        "P = 16.4 # atm\n",
        "T = 500 # K\n",
        "\n",
        "CT = P/R/T\n",
        "\n",
        "xA0 = 0.5 # -\n",
        "xB0 = 0.5 # -\n",
        "xC0 = 0 # -\n",
        "\n",
        "\n",
        "CA0 = xA0 * CT # mol/L\n",
        "CB0 = xB0 * CT  # mol/L\n",
        "CC0 = xC0 * CT  # mol/L\n",
        "\n",
        "FA0 = Vdot * CA0 # mol/s\n",
        "FB0 = Vdot * CB0 # mol/s\n",
        "FC0 = Vdot * CC0 # mol/s\n",
        "\n",
        "epsilon = -0.5\n"
      ],
      "execution_count": 0,
      "outputs": []
    },
    {
      "metadata": {
        "id": "urNNQdqV4_aV",
        "colab_type": "code",
        "colab": {}
      },
      "cell_type": "code",
      "source": [
        "def r(X):\n",
        "    CA = CA0 * (1-X) / (1+epsilon*X)\n",
        "    CB = CA0 * (CB0/CA0-0.5*X) / (1+epsilon*X)\n",
        "    return k * CA**2 * CB"
      ],
      "execution_count": 0,
      "outputs": []
    },
    {
      "metadata": {
        "id": "CXV-meM4Qzt5",
        "colab_type": "code",
        "colab": {}
      },
      "cell_type": "code",
      "source": [
        "def levenspiel(X):\n",
        "    FA0 = CA0 * Vdot\n",
        "    return FA0 / 2 / r(X)\n",
        "    "
      ],
      "execution_count": 0,
      "outputs": []
    },
    {
      "metadata": {
        "id": "aexPyThRRbCL",
        "colab_type": "code",
        "colab": {}
      },
      "cell_type": "code",
      "source": [
        "Xs = np.arange(0, 0.9, 0.01)\n",
        "Ys = levenspiel(Xs)"
      ],
      "execution_count": 0,
      "outputs": []
    },
    {
      "metadata": {
        "id": "V7aVkiCzUJRH",
        "colab_type": "code",
        "outputId": "a6135dac-af1c-4f68-fbaa-7d221b70e13c",
        "colab": {
          "base_uri": "https://localhost:8080/",
          "height": 347
        }
      },
      "cell_type": "code",
      "source": [
        "plt.plot(Xs, Ys)\n",
        "plt.show()"
      ],
      "execution_count": 6,
      "outputs": [
        {
          "output_type": "display_data",
          "data": {
            "image/png": "[encoded data removed]",
            "text/plain": [
              "<matplotlib.figure.Figure at 0x7f0912336320>"
            ]
          },
          "metadata": {
            "tags": []
          }
        }
      ]
    },
    {
      "metadata": {
        "id": "a0yEGjz8UZKT",
        "colab_type": "code",
        "outputId": "de3396ed-0e6d-4fcf-d070-d06756334280",
        "colab": {
          "base_uri": "https://localhost:8080/",
          "height": 34
        }
      },
      "cell_type": "code",
      "source": [
        "V_CSTR_08 = levenspiel(0.8) * (0.8 - 0)\n",
        "V_CSTR_08"
      ],
      "execution_count": 7,
      "outputs": [
        {
          "output_type": "execute_result",
          "data": {
            "text/plain": [
              "36.05036316288891"
            ]
          },
          "metadata": {
            "tags": []
          },
          "execution_count": 7
        }
      ]
    },
    {
      "metadata": {
        "id": "G1py_fnlUpeY",
        "colab_type": "code",
        "outputId": "2063314f-200f-483d-8f59-287110edc5b8",
        "colab": {
          "base_uri": "https://localhost:8080/",
          "height": 34
        }
      },
      "cell_type": "code",
      "source": [
        "V_PFR_08 = quad(levenspiel, 0, 0.8)[0]\n",
        "V_PFR_08"
      ],
      "execution_count": 8,
      "outputs": [
        {
          "output_type": "execute_result",
          "data": {
            "text/plain": [
              "10.037617557104475"
            ]
          },
          "metadata": {
            "tags": []
          },
          "execution_count": 8
        }
      ]
    },
    {
      "metadata": {
        "id": "eXgV5EGKU4aB",
        "colab_type": "code",
        "outputId": "4e1b3b88-43c5-4bc0-effd-ac12f8843b41",
        "colab": {
          "base_uri": "https://localhost:8080/",
          "height": 34
        }
      },
      "cell_type": "code",
      "source": [
        "V_CSTR_099 = levenspiel(0.99) * (0.99 - 0)\n",
        "V_CSTR_099"
      ],
      "execution_count": 9,
      "outputs": [
        {
          "output_type": "execute_result",
          "data": {
            "text/plain": [
              "12641.397815221611"
            ]
          },
          "metadata": {
            "tags": []
          },
          "execution_count": 9
        }
      ]
    },
    {
      "metadata": {
        "id": "ARjG5MdvU74a",
        "colab_type": "code",
        "outputId": "7be0bc93-2ebb-4e68-c4c1-6fa4be162326",
        "colab": {
          "base_uri": "https://localhost:8080/",
          "height": 34
        }
      },
      "cell_type": "code",
      "source": [
        "V_PFR_099 = quad(levenspiel, 0, 0.99)[0]\n",
        "V_PFR_099"
      ],
      "execution_count": 10,
      "outputs": [
        {
          "output_type": "execute_result",
          "data": {
            "text/plain": [
              "136.69138638613944"
            ]
          },
          "metadata": {
            "tags": []
          },
          "execution_count": 10
        }
      ]
    },
    {
      "metadata": {
        "id": "Ef4txsFkVDbd",
        "colab_type": "code",
        "colab": {}
      },
      "cell_type": "code",
      "source": [
        ""
      ],
      "execution_count": 0,
      "outputs": []
    }
  ]
}