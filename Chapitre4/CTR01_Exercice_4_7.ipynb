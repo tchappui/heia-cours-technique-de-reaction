{
  "nbformat": 4,
  "nbformat_minor": 0,
  "metadata": {
    "colab": {
      "name": "CTR01 - Exercice 4.7.ipynb",
      "version": "0.3.2",
      "provenance": [],
      "collapsed_sections": [],
      "include_colab_link": true
    },
    "kernelspec": {
      "name": "python3",
      "display_name": "Python 3"
    }
  },
  "cells": [
    {
      "cell_type": "markdown",
      "metadata": {
        "id": "view-in-github",
        "colab_type": "text"
      },
      "source": [
        "<a href=\"https://colab.research.google.com/github/tchappui/heia-cours-technique-de-reaction/blob/master/Chapitre4/CTR01_Exercice_4_7.ipynb\" target=\"_parent\"><img src=\"https://colab.research.google.com/assets/colab-badge.svg\" alt=\"Open In Colab\"/></a>"
      ]
    },
    {
      "metadata": {
        "id": "NYBBn-N5Fhrh",
        "colab_type": "text"
      },
      "cell_type": "markdown",
      "source": [
        "# Exercice 4.7\n",
        "\n",
        "\n"
      ]
    },
    {
      "metadata": {
        "id": "POqrE7YZFaYa",
        "colab_type": "code",
        "colab": {}
      },
      "cell_type": "code",
      "source": [
        "import numpy as np\n",
        "import matplotlib.pyplot as plt\n",
        "from scipy.interpolate import interp1d\n",
        "from scipy.integrate import quad\n",
        "from scipy.optimize import fsolve"
      ],
      "execution_count": 0,
      "outputs": []
    },
    {
      "metadata": {
        "id": "2k9r5JBHFkva",
        "colab_type": "code",
        "colab": {}
      },
      "cell_type": "code",
      "source": [
        "FA0 = 300 # mol/min\n",
        "\n",
        "X = np.array([0, 0.2, 0.4, 0.45, 0.5, 0.6, 0.8, 0.9, 1]) # -\n",
        "r = np.array([1.0, 1.67, 5.0, 5.0, 5.0, 5.0, 1.25, 0.9, 0.7158]) # mol/L/min\n",
        "Y = FA0 / r\n",
        "\n",
        "levenspiel = interp1d(X, Y)\n",
        "\n"
      ],
      "execution_count": 0,
      "outputs": []
    },
    {
      "metadata": {
        "id": "XZ1y-9WLGmTO",
        "colab_type": "code",
        "colab": {
          "base_uri": "https://localhost:8080/",
          "height": 347
        },
        "outputId": "f848c8bb-b985-447e-8b8a-b624edeb73b8"
      },
      "cell_type": "code",
      "source": [
        "plt.plot(X, Y)\n",
        "plt.show()"
      ],
      "execution_count": 36,
      "outputs": [
        {
          "output_type": "display_data",
          "data": {
            "image/png": "[encoded data removed]",
            "text/plain": [
              "<matplotlib.figure.Figure at 0x7f12ca8164a8>"
            ]
          },
          "metadata": {
            "tags": []
          }
        }
      ]
    },
    {
      "metadata": {
        "id": "TovJv-yaHLY9",
        "colab_type": "text"
      },
      "cell_type": "markdown",
      "source": [
        "## Volume pour atteindre 40% de conversion"
      ]
    },
    {
      "metadata": {
        "id": "EL-Jzk0dHAkx",
        "colab_type": "code",
        "colab": {
          "base_uri": "https://localhost:8080/",
          "height": 34
        },
        "outputId": "aa6e3236-bb27-4758-c591-49ec0e04e75c"
      },
      "cell_type": "code",
      "source": [
        "VCSTR = levenspiel(0.4) * 0.4\n",
        "VCSTR"
      ],
      "execution_count": 37,
      "outputs": [
        {
          "output_type": "execute_result",
          "data": {
            "text/plain": [
              "24.0"
            ]
          },
          "metadata": {
            "tags": []
          },
          "execution_count": 37
        }
      ]
    },
    {
      "metadata": {
        "id": "C9QgOpaRHVsU",
        "colab_type": "code",
        "colab": {
          "base_uri": "https://localhost:8080/",
          "height": 34
        },
        "outputId": "2a12b70b-7732-498e-bbaf-bccaaa5dfb86"
      },
      "cell_type": "code",
      "source": [
        "VPFR = quad(levenspiel, 0, 0.4)[0]\n",
        "VPFR"
      ],
      "execution_count": 38,
      "outputs": [
        {
          "output_type": "execute_result",
          "data": {
            "text/plain": [
              "71.92814371257487"
            ]
          },
          "metadata": {
            "tags": []
          },
          "execution_count": 38
        }
      ]
    },
    {
      "metadata": {
        "id": "7CcAxgC6HqHk",
        "colab_type": "text"
      },
      "cell_type": "markdown",
      "source": [
        "## Sur quel domaine de conversions est-il similaire d’utiliser un CSTR ou un PFR?\n",
        "\n",
        "Entre 0.4 et 0.6"
      ]
    },
    {
      "metadata": {
        "id": "qwpys3RgHzSb",
        "colab_type": "text"
      },
      "cell_type": "markdown",
      "source": [
        "## Quelle est la conversion qui peut être atteinte dans un réacteur CSTR de 105 L?\n"
      ]
    },
    {
      "metadata": {
        "id": "xwee825_MGQx",
        "colab_type": "code",
        "colab": {
          "base_uri": "https://localhost:8080/",
          "height": 34
        },
        "outputId": "a63066ba-c87d-46bb-d350-ab03d4ee7175"
      },
      "cell_type": "code",
      "source": [
        "# X optimisé à la main\n",
        "X = 0.7\n",
        "\n",
        "VCSTR = levenspiel(X) * X\n",
        "VCSTR"
      ],
      "execution_count": 47,
      "outputs": [
        {
          "output_type": "execute_result",
          "data": {
            "text/plain": [
              "104.99999999999996"
            ]
          },
          "metadata": {
            "tags": []
          },
          "execution_count": 47
        }
      ]
    },
    {
      "metadata": {
        "id": "9gZ2x7YsSFYj",
        "colab_type": "code",
        "colab": {
          "base_uri": "https://localhost:8080/",
          "height": 34
        },
        "outputId": "c591d8c2-1888-439b-fd95-022240a24c6a"
      },
      "cell_type": "code",
      "source": [
        "# X1 optimisé à la main\n",
        "X1 = 0.4015\n",
        "\n",
        "VPFR = quad(levenspiel, 0, X1)[0]\n",
        "VPFR"
      ],
      "execution_count": 66,
      "outputs": [
        {
          "output_type": "execute_result",
          "data": {
            "text/plain": [
              "72.01814369167037"
            ]
          },
          "metadata": {
            "tags": []
          },
          "execution_count": 66
        }
      ]
    },
    {
      "metadata": {
        "id": "OetDvookSvqc",
        "colab_type": "code",
        "colab": {
          "base_uri": "https://localhost:8080/",
          "height": 34
        },
        "outputId": "52086a78-5430-4e1d-f733-c797674399ff"
      },
      "cell_type": "code",
      "source": [
        "# X2 optimisé à la main\n",
        "X1 = 0.4014\n",
        "X2 = 0.6435\n",
        "\n",
        "VCSTR = levenspiel(X2) * (X2 - X1)\n",
        "VCSTR"
      ],
      "execution_count": 67,
      "outputs": [
        {
          "output_type": "execute_result",
          "data": {
            "text/plain": [
              "24.00421499999999"
            ]
          },
          "metadata": {
            "tags": []
          },
          "execution_count": 67
        }
      ]
    },
    {
      "metadata": {
        "id": "rI31eAr1TBzn",
        "colab_type": "code",
        "colab": {}
      },
      "cell_type": "code",
      "source": [
        ""
      ],
      "execution_count": 0,
      "outputs": []
    }
  ]
}