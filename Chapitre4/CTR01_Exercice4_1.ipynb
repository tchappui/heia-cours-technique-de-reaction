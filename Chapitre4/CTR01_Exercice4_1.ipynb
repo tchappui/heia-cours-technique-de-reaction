{
  "nbformat": 4,
  "nbformat_minor": 0,
  "metadata": {
    "colab": {
      "name": "CTR01-Exercice4.1.ipynb",
      "version": "0.3.2",
      "provenance": [],
      "collapsed_sections": [],
      "include_colab_link": true
    },
    "kernelspec": {
      "display_name": "Python 3",
      "language": "python",
      "name": "python3"
    }
  },
  "cells": [
    {
      "cell_type": "markdown",
      "metadata": {
        "id": "view-in-github",
        "colab_type": "text"
      },
      "source": [
        "<a href=\"https://colab.research.google.com/github/tchappui/heia-cours-technique-de-reaction/blob/master/Chapitre4/CTR01_Exercice4_1.ipynb\" target=\"_parent\"><img src=\"https://colab.research.google.com/assets/colab-badge.svg\" alt=\"Open In Colab\"/></a>"
      ]
    },
    {
      "metadata": {
        "id": "6W4EzKSWMg_Q",
        "colab_type": "text"
      },
      "cell_type": "markdown",
      "source": [
        "# Corrigé de l'exercice 4.1\n",
        "\n",
        "On considère la réaction d’isomérisation en phase gazeuse suivante, réalisée en conditions isothermes:\n",
        "\n",
        "$𝐴\\to 𝐵$\n",
        "\n",
        "La réaction est d’abord réalisées en laboratoire à une température de 500 K et une pression de 830 kPa avec un réacteur initialement chargé avec du A pur. Le débit molaire de A entrant est de $𝐹_{𝐴0}$_= 0.4 mol/s.\n",
        "\n",
        "Les données expérimentales sont données ci-dessous:\n",
        "\n",
        "* X = [0, 0.1, 0.2, 0.4, 0.6, 0.7, 0.8]\n",
        "* -RA = [0.45, 0.37, 0.30, 0.195, 0.113, 0.079, 0.05]  mol/(m3*s)\n",
        "\n",
        "Dans un réacteur CSTR:\n",
        "\n",
        "* Calculer le volume nécessaire pour obtenir une conversion de 80 %.\n",
        "\n",
        "Dans un réacteur tubulaire:\n",
        "\n",
        "* Calculer le volume nécessaire pour obtenir une conversion de 80 %.\n",
        "* Tracer un profil de la conversion en fonction de la position dans le réacteur.\n",
        "* Comparer les deux types de réacteurs."
      ]
    },
    {
      "metadata": {
        "id": "cl6ETgRWMg_S",
        "colab_type": "text"
      },
      "cell_type": "markdown",
      "source": [
        "## Solution\n",
        "\n",
        "On commence par inporter les différents packages. Nous allons utiliser la fonction interp1d() du module scipy.interpolate pour interpoler linéairement entre les points expérimentaux et la fonction np.trapz() pour intégrer sous la courbe par la méthode des trapèzes.\n"
      ]
    },
    {
      "metadata": {
        "id": "aSPwVuYjMg_U",
        "colab_type": "code",
        "colab": {}
      },
      "cell_type": "code",
      "source": [
        "import numpy as np\n",
        "from scipy.integrate import cumtrapz\n",
        "from scipy.interpolate import interp1d\n",
        "import matplotlib.pyplot as plt"
      ],
      "execution_count": 0,
      "outputs": []
    },
    {
      "metadata": {
        "id": "4_6jEb33Mg_Y",
        "colab_type": "text"
      },
      "cell_type": "markdown",
      "source": [
        "On commence par définir les données à utiliser:"
      ]
    },
    {
      "metadata": {
        "id": "rN3wbWuiMg_Z",
        "colab_type": "code",
        "colab": {}
      },
      "cell_type": "code",
      "source": [
        "FA0 = 0.4 # mol/s\n",
        "X = np.array([0, 0.1, 0.2, 0.4, 0.6, 0.7, 0.8]) # -\n",
        "RA = np.array([-0.45, -0.37, -0.30, -0.195, -0.113, -0.079, -0.05]) # mol/(m3*s)\n",
        "Y = FA0 / -RA # m3\n"
      ],
      "execution_count": 0,
      "outputs": []
    },
    {
      "metadata": {
        "id": "J9GwmoGDMg_h",
        "colab_type": "text"
      },
      "cell_type": "markdown",
      "source": [
        "Afin de se faciliter la vie pour la suite, on interpole linéairement entre les points pour avoir plus de points. Pour ce faire, la fonction interp1d() permet de fabriquer une fonction d'interpolation à partir des résultats expérimentaux."
      ]
    },
    {
      "metadata": {
        "id": "_k4EfARvMg_i",
        "colab_type": "code",
        "colab": {}
      },
      "cell_type": "code",
      "source": [
        "interpoler = interp1d(X, Y)"
      ],
      "execution_count": 0,
      "outputs": []
    },
    {
      "metadata": {
        "id": "lpbRe9S3Mg_m",
        "colab_type": "text"
      },
      "cell_type": "markdown",
      "source": [
        "On déssine notre diagramme de Levenspiel, il vient:"
      ]
    },
    {
      "metadata": {
        "id": "IKB-yGKgMg_n",
        "colab_type": "code",
        "colab": {
          "base_uri": "https://localhost:8080/",
          "height": 371
        },
        "outputId": "95511332-66d8-42e3-add4-15af1a9a64f6"
      },
      "cell_type": "code",
      "source": [
        "Xsim = np.linspace(0, 0.8, 801)\n",
        "Ysim = interpoler(Xsim)\n",
        "plt.plot(Xsim, Ysim, 'r-')\n",
        "plt.xlabel('X (-)', fontweight='bold', fontsize=16)\n",
        "plt.ylabel('$F_{A0}/-R_{A}$ (m3)', fontweight='bold', fontsize=16)\n",
        "plt.axis([0, 1, 0, 10])\n",
        "plt.show()"
      ],
      "execution_count": 16,
      "outputs": [
        {
          "output_type": "display_data",
          "data": {
            "image/png": "[encoded data removed]",
            "text/plain": [
              "<matplotlib.figure.Figure at 0x7efce6304f28>"
            ]
          },
          "metadata": {
            "tags": []
          }
        }
      ]
    },
    {
      "metadata": {
        "id": "KeqhwXsQMg_v",
        "colab_type": "text"
      },
      "cell_type": "markdown",
      "source": [
        "On calcul les volumes des réacteurs CSTR et PFR de la manière suivante en Python:"
      ]
    },
    {
      "metadata": {
        "id": "M47Qr9BaMg_w",
        "colab_type": "code",
        "colab": {
          "base_uri": "https://localhost:8080/",
          "height": 35
        },
        "outputId": "6e2990f6-5e3d-44c0-d96f-927915f96dd8"
      },
      "cell_type": "code",
      "source": [
        "VCSTR = Y[-1] * 0.8\n",
        "VCSTR # m3"
      ],
      "execution_count": 17,
      "outputs": [
        {
          "output_type": "execute_result",
          "data": {
            "text/plain": [
              "6.4"
            ]
          },
          "metadata": {
            "tags": []
          },
          "execution_count": 17
        }
      ]
    },
    {
      "metadata": {
        "id": "7Y4HqHfJMg_4",
        "colab_type": "code",
        "colab": {
          "base_uri": "https://localhost:8080/",
          "height": 35
        },
        "outputId": "cabe4635-d043-4ba9-8742-e99d86ff23df"
      },
      "cell_type": "code",
      "source": [
        "VPFR = np.trapz(Ysim, Xsim)\n",
        "VPFR # m3"
      ],
      "execution_count": 18,
      "outputs": [
        {
          "output_type": "execute_result",
          "data": {
            "text/plain": [
              "2.2001115280604475"
            ]
          },
          "metadata": {
            "tags": []
          },
          "execution_count": 18
        }
      ]
    },
    {
      "metadata": {
        "id": "4kSqjeKJeXE4",
        "colab_type": "text"
      },
      "cell_type": "markdown",
      "source": [
        "Pour tracer la conversion en fonction de la position dans le réacteur, i.e. le volume, on inverse notre façon de penser et on calcule les volumes correspondant à des conversions de 0, 0.05, 0.1, ...\n",
        "\n",
        "Pour ce faire, on peut faire une intégrale cumulée sous la courbe du diagramme de Levenspiel. Il vient:"
      ]
    },
    {
      "metadata": {
        "id": "CUa6WEb2Mg_-",
        "colab_type": "code",
        "colab": {
          "base_uri": "https://localhost:8080/",
          "height": 69
        },
        "outputId": "7641f34b-da36-45f2-94b4-f8aafb977b9d"
      },
      "cell_type": "code",
      "source": [
        "get_y = interp1d(x=X, y=Y)\n",
        "Xs = np.arange(0, 0.8, 0.05)\n",
        "Ys = get_y(Xs)\n",
        "Vs = cumtrapz(x=Xs, y=Ys)\n",
        "Vs"
      ],
      "execution_count": 21,
      "outputs": [
        {
          "output_type": "execute_result",
          "data": {
            "text/plain": [
              "array([0.04684685, 0.0984985 , 0.15570571, 0.21921922, 0.29037307,\n",
              "       0.37050127, 0.45960383, 0.55768076, 0.66954824, 0.80002249,\n",
              "       0.94910349, 1.11679126, 1.31282577, 1.54694697, 1.83682039])"
            ]
          },
          "metadata": {
            "tags": []
          },
          "execution_count": 21
        }
      ]
    },
    {
      "metadata": {
        "id": "XV2IB6ldeLf-",
        "colab_type": "code",
        "colab": {
          "base_uri": "https://localhost:8080/",
          "height": 361
        },
        "outputId": "4913295b-e58a-4ae3-8ae2-36858fc8c9cf"
      },
      "cell_type": "code",
      "source": [
        "plt.plot(Vs, Xs[1:])\n",
        "plt.xlabel('V (m3)')\n",
        "plt.ylabel('X (-)')\n",
        "plt.show()"
      ],
      "execution_count": 22,
      "outputs": [
        {
          "output_type": "display_data",
          "data": {
            "image/png": "[encoded data removed]",
            "text/plain": [
              "<matplotlib.figure.Figure at 0x7efce627e668>"
            ]
          },
          "metadata": {
            "tags": []
          }
        }
      ]
    },
    {
      "metadata": {
        "id": "Kn01_-NZfETS",
        "colab_type": "code",
        "colab": {}
      },
      "cell_type": "code",
      "source": [
        ""
      ],
      "execution_count": 0,
      "outputs": []
    }
  ]
}